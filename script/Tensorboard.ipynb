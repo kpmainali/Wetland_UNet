{
  "cells": [
    {
      "cell_type": "code",
      "source": [
        "from azureml.tensorboard import Tensorboard\r\n",
        "from azureml.core import Experiment, Environment, Workspace, Datastore, Dataset, Model, ScriptRunConfig\r\n",
        "import os\r\n",
        "import glob\r\n",
        "# get the current workspace\r\n",
        "ws = Workspace.from_config()"
      ],
      "outputs": [],
      "execution_count": 1,
      "metadata": {
        "gather": {
          "logged": 1627341600385
        }
      }
    },
    {
      "cell_type": "code",
      "source": [
        "# access our registered data share containing image data in this workspace\r\n",
        "datastore = Datastore.get(workspace = ws, datastore_name = 'wetlanddatastore')\r\n",
        "\r\n",
        "train_path = (datastore, 'data/training/')\r\n",
        "eval_path = (datastore, 'data/eval/')\r\n",
        "\r\n",
        "test_path = (datastore, 'data/predict/test_aoi_David1_DE')\r\n",
        "\r\n",
        "train_dataset = Dataset.File.from_files(path = [train_path])\r\n",
        "eval_dataset = Dataset.File.from_files(path = [eval_path])\r\n",
        "test_dataset = Dataset.File.from_files(path = [test_path])"
      ],
      "outputs": [],
      "execution_count": 21,
      "metadata": {
        "collapsed": true,
        "jupyter": {
          "source_hidden": false,
          "outputs_hidden": false
        },
        "nteract": {
          "transient": {
            "deleting": false
          }
        },
        "gather": {
          "logged": 1623352178924
        }
      }
    },
    {
      "cell_type": "code",
      "source": [
        "run_id = 'wetland-unet_1623274083_79c16e68'\r\n",
        "\r\n",
        "run = ws.get_run(run_id)\r\n",
        "\r\n",
        "run.get_file_names()\r\n"
      ],
      "outputs": [
        {
          "output_type": "execute_result",
          "execution_count": 26,
          "data": {
            "text/plain": "['azureml-logs/55_azureml-execution-tvmps_125cd859023dbee460a80b92b097acec6f6261583a1dd36cc3da010b21063da8_d.txt',\n 'azureml-logs/65_job_prep-tvmps_125cd859023dbee460a80b92b097acec6f6261583a1dd36cc3da010b21063da8_d.txt',\n 'azureml-logs/70_driver_log.txt',\n 'azureml-logs/75_job_post-tvmps_125cd859023dbee460a80b92b097acec6f6261583a1dd36cc3da010b21063da8_d.txt',\n 'azureml-logs/process_info.json',\n 'azureml-logs/process_status.json',\n 'logs/azureml/87_azureml.log',\n 'logs/azureml/dataprep/backgroundProcess.log',\n 'logs/azureml/dataprep/backgroundProcess_Telemetry.log',\n 'logs/azureml/job_prep_azureml.log',\n 'logs/azureml/job_release_azureml.log',\n 'logs/azureml/sidecar/tvmps_125cd859023dbee460a80b92b097acec6f6261583a1dd36cc3da010b21063da8_d/all.log',\n 'logs/azureml/sidecar/tvmps_125cd859023dbee460a80b92b097acec6f6261583a1dd36cc3da010b21063da8_d/task.enter_contexts.log',\n 'logs/azureml/sidecar/tvmps_125cd859023dbee460a80b92b097acec6f6261583a1dd36cc3da010b21063da8_d/task.exit_contexts.log',\n 'logs/preds/events.out.tfevents.1623274210.wetlands2k80.87.3675.v2',\n 'logs/train/events.out.tfevents.1623274210.wetlands2k80.87.3685.v2',\n 'logs/train/events.out.tfevents.1623274590.wetlands2k80.profile-empty',\n 'logs/train/plugins/profile/2021_06_09_21_36_30/wetlands2k80.input_pipeline.pb',\n 'logs/train/plugins/profile/2021_06_09_21_36_30/wetlands2k80.kernel_stats.pb',\n 'logs/train/plugins/profile/2021_06_09_21_36_30/wetlands2k80.memory_profile.json.gz',\n 'logs/train/plugins/profile/2021_06_09_21_36_30/wetlands2k80.overview_page.pb',\n 'logs/train/plugins/profile/2021_06_09_21_36_30/wetlands2k80.tensorflow_stats.pb',\n 'logs/train/plugins/profile/2021_06_09_21_36_30/wetlands2k80.trace.json.gz',\n 'logs/train/plugins/profile/2021_06_09_21_36_30/wetlands2k80.xplane.pb',\n 'logs/validation/events.out.tfevents.1623275013.wetlands2k80.87.10233.v2',\n 'outputs/best_weights_09Jun21.hdf5',\n 'outputs/unet256.h5']"
          },
          "metadata": {}
        }
      ],
      "execution_count": 26,
      "metadata": {
        "collapsed": true,
        "jupyter": {
          "source_hidden": false,
          "outputs_hidden": false
        },
        "nteract": {
          "transient": {
            "deleting": false
          }
        },
        "gather": {
          "logged": 1623353317941
        }
      }
    },
    {
      "cell_type": "code",
      "source": [
        "run.download_files(prefix = 'logs', output_directory = 'logs')"
      ],
      "outputs": [],
      "execution_count": 39,
      "metadata": {
        "collapsed": true,
        "jupyter": {
          "source_hidden": false,
          "outputs_hidden": false
        },
        "nteract": {
          "transient": {
            "deleting": false
          }
        },
        "gather": {
          "logged": 1623356369442
        }
      }
    },
    {
      "cell_type": "code",
      "source": [
        "model = run.register_model(model_name='wetland-unet-test',\r\n",
        "                           tags=run.tags,\r\n",
        "                           description = 'UNET model delineating wetlands in Delaware, Minnesota, and New York',\r\n",
        "                           model_path='outputs/',\r\n",
        "                           model_framework = 'Tensorflow',\r\n",
        "                           model_framework_version= '2.0',\r\n",
        "                           datasets = [('training', train_dataset), ('evaluation', eval_dataset), ('testing', test_dataset)])\r\n",
        "print(model.name, model.id, model.version, sep='\\t')"
      ],
      "outputs": [
        {
          "output_type": "stream",
          "name": "stdout",
          "text": [
            "wetland-unet-test\twetland-unet-test:1\t1\n"
          ]
        }
      ],
      "execution_count": 22,
      "metadata": {
        "collapsed": true,
        "jupyter": {
          "source_hidden": false,
          "outputs_hidden": false
        },
        "nteract": {
          "transient": {
            "deleting": false
          }
        },
        "gather": {
          "logged": 1623352209358
        }
      }
    },
    {
      "cell_type": "code",
      "source": [
        "## NOTE: the log files written during train_wetland were successfully read by tensorboard in \r\n",
        "## my mevans@defenders.org env. Tensorboard likely not working here due to some kind of permission issue\r\n",
        "\r\n",
        "# The TensorBoard constructor takes an array of runs, so be sure and pass it in as a single-element array here\r\n",
        "tb = Tensorboard(runs = [], local_root = '/home/azureuser/cloudfiles/code/Users/mevans/basic_logs', port = 6006)\r\n",
        "# tb = Tensorboard(runs = [run], port = 6006)\r\n",
        "# If successful, start() returns a string with the URI of the instance.\r\n",
        "tb.start()"
      ],
      "outputs": [
        {
          "output_type": "stream",
          "name": "stdout",
          "text": [
            "https://wetlandsbasiccpu-6006.eastus.instances.azureml.ms\n"
          ]
        },
        {
          "output_type": "execute_result",
          "execution_count": 2,
          "data": {
            "text/plain": "'https://wetlandsbasiccpu-6006.eastus.instances.azureml.ms'"
          },
          "metadata": {}
        }
      ],
      "execution_count": 2,
      "metadata": {
        "collapsed": true,
        "jupyter": {
          "source_hidden": false,
          "outputs_hidden": false
        },
        "nteract": {
          "transient": {
            "deleting": false
          }
        },
        "gather": {
          "logged": 1627341609212
        }
      }
    },
    {
      "cell_type": "code",
      "source": [
        "tb.stop()\r\n",
        "Users/mevans/basic_logs"
      ],
      "outputs": [],
      "execution_count": 49,
      "metadata": {
        "collapsed": true,
        "jupyter": {
          "source_hidden": false,
          "outputs_hidden": false
        },
        "nteract": {
          "transient": {
            "deleting": false
          }
        },
        "gather": {
          "logged": 1623357315049
        }
      }
    }
  ],
  "metadata": {
    "kernelspec": {
      "name": "python3-azureml",
      "language": "python",
      "display_name": "Python 3.6 - AzureML"
    },
    "language_info": {
      "name": "python",
      "version": "3.6.9",
      "mimetype": "text/x-python",
      "codemirror_mode": {
        "name": "ipython",
        "version": 3
      },
      "pygments_lexer": "ipython3",
      "nbconvert_exporter": "python",
      "file_extension": ".py"
    },
    "kernel_info": {
      "name": "python3-azureml"
    },
    "microsoft": {
      "host": {
        "AzureML": {
          "notebookHasBeenCompleted": true
        }
      }
    },
    "nteract": {
      "version": "nteract-front-end@1.0.0"
    }
  },
  "nbformat": 4,
  "nbformat_minor": 2
}