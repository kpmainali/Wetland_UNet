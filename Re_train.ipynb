{
  "cells": [
    {
      "cell_type": "code",
      "source": [
        "# make sure we have the most current version of github repo\r\n",
        "%cd Satellite_ComputerVision\r\n",
        "!git pull\r\n",
        "%cd .."
      ],
      "outputs": [
        {
          "output_type": "stream",
          "name": "stdout",
          "text": [
            "/mnt/batch/tasks/shared/LS_root/mounts/clusters/wetlandsbasiccpu/code/Users/mevans/Satellite_ComputerVision\n",
            "remote: Enumerating objects: 28, done.\u001b[K\n",
            "remote: Counting objects: 100% (28/28), done.\u001b[K\n",
            "remote: Compressing objects: 100% (5/5), done.\u001b[K\n",
            "remote: Total 20 (delta 16), reused 19 (delta 15), pack-reused 0\u001b[K\n",
            "Unpacking objects: 100% (20/20), 5.52 KiB | 2.00 KiB/s, done.\n",
            "From https://github.com/mjevans26/Satellite_ComputerVision\n",
            "   164ff20..ce176df  master     -> origin/master\n",
            "Updating 164ff20..ce176df\n",
            "Fast-forward\n",
            " .spyproject/workspace.ini |   2 \u001b[32m+\u001b[m\u001b[31m-\u001b[m\n",
            " azure/retrain_wetland.py  | 232 \u001b[32m++++++++++++++++++++++++++++++++++++++++++++++\u001b[m\n",
            " azure/train_acd.py        |   4 \u001b[32m+\u001b[m\u001b[31m-\u001b[m\n",
            " azure/train_wetland.py    |  48 \u001b[32m+++++\u001b[m\u001b[31m-----\u001b[m\n",
            " utils/model_tools.py      |  18 \u001b[32m++\u001b[m\u001b[31m--\u001b[m\n",
            " utils/prediction_tools.py |   4 \u001b[32m+\u001b[m\u001b[31m-\u001b[m\n",
            " 6 files changed, 276 insertions(+), 32 deletions(-)\n",
            " create mode 100644 azure/retrain_wetland.py\n",
            "/mnt/batch/tasks/shared/LS_root/mounts/clusters/wetlandsbasiccpu/code/Users/mevans\n"
          ]
        }
      ],
      "execution_count": 155,
      "metadata": {
        "collapsed": true,
        "jupyter": {
          "source_hidden": false,
          "outputs_hidden": false
        },
        "nteract": {
          "transient": {
            "deleting": false
          }
        },
        "gather": {
          "logged": 1624570403521
        }
      }
    },
    {
      "cell_type": "code",
      "source": [
        "from azureml.tensorboard import Tensorboard\r\n",
        "from azureml.core import Experiment, Environment, Workspace, Datastore, Dataset, Model, ScriptRunConfig\r\n",
        "import os\r\n",
        "import glob\r\n",
        "# get the current workspace\r\n",
        "ws = Workspace.from_config()"
      ],
      "outputs": [],
      "execution_count": 191,
      "metadata": {
        "gather": {
          "logged": 1624844463691
        }
      }
    },
    {
      "cell_type": "code",
      "source": [
        "# access our registered data share containing image data in this workspace\r\n",
        "datastore = Datastore.get(workspace = ws, datastore_name = 'wetlanddatastore')\r\n",
        "\r\n",
        "train_path = (datastore, 'data/training/')\r\n",
        "eval_path = (datastore, 'data/eval/')\r\n",
        "\r\n",
        "test_path = (datastore, 'data/predict/test_aoi_David1_DE')\r\n",
        "\r\n",
        "train_dataset = Dataset.File.from_files(path = [train_path])\r\n",
        "eval_dataset = Dataset.File.from_files(path = [eval_path])\r\n",
        "test_dataset = Dataset.File.from_files(path = [test_path])"
      ],
      "outputs": [],
      "execution_count": 192,
      "metadata": {
        "collapsed": true,
        "jupyter": {
          "source_hidden": false,
          "outputs_hidden": false
        },
        "nteract": {
          "transient": {
            "deleting": false
          }
        },
        "gather": {
          "logged": 1624844469510
        }
      }
    },
    {
      "cell_type": "code",
      "source": [
        "# FInd the run corresponding to the model we want to register\r\n",
        "run_id = 'wetland-unet_1624474885_5848636c'\r\n",
        "\r\n",
        "run = ws.get_run(run_id)\r\n",
        "\r\n",
        "run.tags"
      ],
      "outputs": [
        {
          "output_type": "execute_result",
          "execution_count": 193,
          "data": {
            "text/plain": "{'splits': 'None',\n 'one_hot': 'None',\n 'model': 'Unet',\n 'normalization': 'pixel',\n 'features': 'basic',\n 'epochs': '110-160',\n '_aml_system_ComputeTargetStatus': '{\"AllocationState\":\"steady\",\"PreparingNodeCount\":0,\"RunningNodeCount\":0,\"CurrentNodeCount\":1}'}"
          },
          "metadata": {}
        }
      ],
      "execution_count": 193,
      "metadata": {
        "collapsed": true,
        "jupyter": {
          "source_hidden": false,
          "outputs_hidden": false
        },
        "nteract": {
          "transient": {
            "deleting": false
          }
        },
        "gather": {
          "logged": 1624844471593
        }
      }
    },
    {
      "cell_type": "code",
      "source": [
        "model_name = 'wetland-unet-basic'"
      ],
      "outputs": [],
      "execution_count": 194,
      "metadata": {
        "collapsed": true,
        "jupyter": {
          "source_hidden": false,
          "outputs_hidden": false
        },
        "nteract": {
          "transient": {
            "deleting": false
          }
        },
        "gather": {
          "logged": 1624844594741
        }
      }
    },
    {
      "cell_type": "code",
      "source": [
        "# if we haven't already registered our model\r\n",
        "model = run.register_model(model_name= model_name,\r\n",
        "                           tags=run.tags,\r\n",
        "                           description = 'UNET model delineating wetlands using Sentinel-2, NAIP data from DE, MN, NY.',\r\n",
        "                           model_path='outputs/',\r\n",
        "                           model_framework = 'Tensorflow',\r\n",
        "                           model_framework_version= '2.0',\r\n",
        "                           datasets = [('training', train_dataset), ('evaluation', eval_dataset), ('testing', test_dataset)])\r\n",
        "print(model.name, model.id, model.version, sep='\\t')"
      ],
      "outputs": [
        {
          "output_type": "stream",
          "name": "stdout",
          "text": [
            "wetland-unet-basic\twetland-unet-basic:5\t5\n"
          ]
        }
      ],
      "execution_count": 195,
      "metadata": {
        "collapsed": true,
        "jupyter": {
          "source_hidden": false,
          "outputs_hidden": false
        },
        "nteract": {
          "transient": {
            "deleting": false
          }
        },
        "gather": {
          "logged": 1624844624262
        }
      }
    },
    {
      "cell_type": "code",
      "source": [
        "model_id = model_name\r\n",
        "model = Model(ws, model_id)\r\n",
        "model.version\r\n",
        "model.get_model_path(model_id, _workspace = ws)\r\n",
        "\r\n",
        "# model_path = model.get_model_path(model_id, _workspace = ws)\r\n",
        "# model_path"
      ],
      "outputs": [
        {
          "output_type": "execute_result",
          "execution_count": 197,
          "data": {
            "text/plain": "'azureml-models/wetland-unet-basic/5/outputs'"
          },
          "metadata": {}
        }
      ],
      "execution_count": 197,
      "metadata": {
        "collapsed": true,
        "jupyter": {
          "source_hidden": false,
          "outputs_hidden": false
        },
        "nteract": {
          "transient": {
            "deleting": false
          }
        },
        "gather": {
          "logged": 1624844656128
        }
      }
    },
    {
      "cell_type": "code",
      "source": [
        "Model.get_model_path(model_id, _workspace = ws)"
      ],
      "outputs": [
        {
          "output_type": "execute_result",
          "execution_count": 205,
          "data": {
            "text/plain": "'azureml-models/wetland-unet-basic/5/outputs'"
          },
          "metadata": {}
        }
      ],
      "execution_count": 205,
      "metadata": {
        "collapsed": true,
        "jupyter": {
          "source_hidden": false,
          "outputs_hidden": false
        },
        "nteract": {
          "transient": {
            "deleting": false
          }
        },
        "gather": {
          "logged": 1624845178668
        }
      }
    },
    {
      "cell_type": "code",
      "source": [
        "# use the azure folder as our script folder\r\n",
        "source = 'Satellite_ComputerVision'\r\n",
        "util_folder = 'utils'\r\n",
        "script_folder = 'azure'\r\n",
        "script_file = 'retrain_wetland_{}.py'"
      ],
      "outputs": [],
      "execution_count": 206,
      "metadata": {
        "collapsed": true,
        "jupyter": {
          "source_hidden": false,
          "outputs_hidden": false
        },
        "nteract": {
          "transient": {
            "deleting": false
          }
        },
        "gather": {
          "logged": 1624845182794
        }
      }
    },
    {
      "cell_type": "code",
      "source": [
        "import shutil\r\n",
        "shutil.copytree(src = f'./azureml-models/{model_name}', dst = f'./azure/models/{model_name}')"
      ],
      "outputs": [
        {
          "output_type": "execute_result",
          "execution_count": 9,
          "data": {
            "text/plain": "'./azure/models/wetland-unet-basic'"
          },
          "metadata": {}
        }
      ],
      "execution_count": 9,
      "metadata": {
        "collapsed": true,
        "jupyter": {
          "source_hidden": false,
          "outputs_hidden": false
        },
        "nteract": {
          "transient": {
            "deleting": false
          }
        },
        "gather": {
          "logged": 1623988568560
        }
      }
    },
    {
      "cell_type": "code",
      "source": [
        "# get our environment\r\n",
        "envs = Environment.list(workspace = ws)\r\n",
        "env = envs.get('wetland-training')"
      ],
      "outputs": [],
      "execution_count": 200,
      "metadata": {
        "collapsed": true,
        "jupyter": {
          "source_hidden": false,
          "outputs_hidden": false
        },
        "nteract": {
          "transient": {
            "deleting": false
          }
        },
        "gather": {
          "logged": 1624844664262
        }
      }
    },
    {
      "cell_type": "code",
      "source": [
        "# define the compute target\r\n",
        "ws.compute_targets\r\n",
        "wetlandGPU = ws.compute_targets['wetlandsGPU']\r\n",
        "wetlandDSVM = ws.compute_targets['wetland-dsvm']\r\n",
        "wetlandDSVM2 = ws.compute_targets['wetland-dsvm2']"
      ],
      "outputs": [],
      "execution_count": 201,
      "metadata": {
        "collapsed": true,
        "jupyter": {
          "source_hidden": false,
          "outputs_hidden": false
        },
        "nteract": {
          "transient": {
            "deleting": false
          }
        },
        "gather": {
          "logged": 1624844667232
        }
      }
    },
    {
      "cell_type": "code",
      "source": [
        "experiment_name = 'wetland-unet'\r\n",
        "exp = Experiment(workspace = ws, name = experiment_name)"
      ],
      "outputs": [],
      "execution_count": 202,
      "metadata": {
        "collapsed": true,
        "jupyter": {
          "source_hidden": false,
          "outputs_hidden": false
        },
        "nteract": {
          "transient": {
            "deleting": false
          }
        },
        "gather": {
          "logged": 1624844667949
        }
      }
    },
    {
      "cell_type": "code",
      "source": [
        "# define the command line arguments to our training sript\r\n",
        "args = [\r\n",
        "    '--train_data', train_dataset.as_mount(),\r\n",
        "    '--eval_data', eval_dataset.as_mount(),\r\n",
        "    '--test_data', test_dataset.as_mount(),\r\n",
        "    '--model_id', model_id,\r\n",
        "    '--weight', 1, \r\n",
        "    '--bias', 0,\r\n",
        "    '-lr', 0.0005,\r\n",
        "    '--epochs', 140,\r\n",
        "    '--batch', 16,\r\n",
        "    '--size', 7207, #14225,\r\n",
        "    '--kernel_size', 256,\r\n",
        "    '--response', 'wetland']"
      ],
      "outputs": [],
      "execution_count": 207,
      "metadata": {
        "collapsed": true,
        "jupyter": {
          "source_hidden": false,
          "outputs_hidden": false
        },
        "nteract": {
          "transient": {
            "deleting": false
          }
        },
        "gather": {
          "logged": 1624845187081
        }
      }
    },
    {
      "cell_type": "code",
      "source": [
        "#  run the training job\r\n",
        "features = 'basic'\r\n",
        "src = ScriptRunConfig(source_directory=script_folder,\r\n",
        "                      script=script_file.format(features), \r\n",
        "                      arguments=args,\r\n",
        "                      compute_target=wetlandGPU,\r\n",
        "                      environment=env)\r\n",
        "run = exp.submit(config=src, tags = dict({'splits':'None', 'one_hot':'None', 'model':'Unet', 'normalization':'pixel', 'features':f'{features}', 'epochs':'160-300'}))\r\n",
        "run"
      ],
      "outputs": [
        {
          "output_type": "execute_result",
          "execution_count": 210,
          "data": {
            "text/plain": "Run(Experiment: wetland-unet,\nId: wetland-unet_1624846917_1dc76912,\nType: azureml.scriptrun,\nStatus: Starting)",
            "text/html": "<table style=\"width:100%\"><tr><th>Experiment</th><th>Id</th><th>Type</th><th>Status</th><th>Details Page</th><th>Docs Page</th></tr><tr><td>wetland-unet</td><td>wetland-unet_1624846917_1dc76912</td><td>azureml.scriptrun</td><td>Starting</td><td><a href=\"https://ml.azure.com/runs/wetland-unet_1624846917_1dc76912?wsid=/subscriptions/d54a5b4d-fd0c-4790-9898-ad1092502ab5/resourcegroups/cic_ai/workspaces/wetlands&amp;tid=2a55ee5f-4b13-43bb-b2d8-0c693229ec8a\" target=\"_blank\" rel=\"noopener\">Link to Azure Machine Learning studio</a></td><td><a href=\"https://docs.microsoft.com/en-us/python/api/azureml-core/azureml.core.script_run.ScriptRun?view=azure-ml-py\" target=\"_blank\" rel=\"noopener\">Link to Documentation</a></td></tr></table>"
          },
          "metadata": {}
        }
      ],
      "execution_count": 210,
      "metadata": {
        "collapsed": true,
        "jupyter": {
          "source_hidden": false,
          "outputs_hidden": false
        },
        "nteract": {
          "transient": {
            "deleting": false
          }
        },
        "gather": {
          "logged": 1624846920488
        }
      }
    },
    {
      "cell_type": "code",
      "source": [
        "#  run the training job\r\n",
        "features = 'wgeomorphon'\r\n",
        "src = ScriptRunConfig(source_directory=script_folder,\r\n",
        "                      script=script_file.format(features), \r\n",
        "                      arguments=args,\r\n",
        "                      compute_target= wetlandDSVM2,\r\n",
        "                      environment=env)\r\n",
        "run = exp.submit(config=src, tags = dict({'splits':'None', 'one_hot':'geomorphons', 'model':'Unet', 'normalization':'pixel', 'features':f'{features}', 'epochs':'100-300'}))\r\n",
        "run"
      ],
      "outputs": [
        {
          "output_type": "execute_result",
          "execution_count": 181,
          "data": {
            "text/plain": "Run(Experiment: wetland-unet,\nId: wetland-unet_1624591441_c5d8f43a,\nType: azureml.scriptrun,\nStatus: Starting)",
            "text/html": "<table style=\"width:100%\"><tr><th>Experiment</th><th>Id</th><th>Type</th><th>Status</th><th>Details Page</th><th>Docs Page</th></tr><tr><td>wetland-unet</td><td>wetland-unet_1624591441_c5d8f43a</td><td>azureml.scriptrun</td><td>Starting</td><td><a href=\"https://ml.azure.com/runs/wetland-unet_1624591441_c5d8f43a?wsid=/subscriptions/d54a5b4d-fd0c-4790-9898-ad1092502ab5/resourcegroups/cic_ai/workspaces/wetlands&amp;tid=2a55ee5f-4b13-43bb-b2d8-0c693229ec8a\" target=\"_blank\" rel=\"noopener\">Link to Azure Machine Learning studio</a></td><td><a href=\"https://docs.microsoft.com/en-us/python/api/azureml-core/azureml.core.script_run.ScriptRun?view=azure-ml-py\" target=\"_blank\" rel=\"noopener\">Link to Documentation</a></td></tr></table>"
          },
          "metadata": {}
        }
      ],
      "execution_count": 181,
      "metadata": {
        "collapsed": true,
        "jupyter": {
          "source_hidden": false,
          "outputs_hidden": false
        },
        "nteract": {
          "transient": {
            "deleting": false
          }
        },
        "gather": {
          "logged": 1624591446617
        }
      }
    }
  ],
  "metadata": {
    "kernelspec": {
      "name": "python3-azureml",
      "language": "python",
      "display_name": "Python 3.6 - AzureML"
    },
    "language_info": {
      "name": "python",
      "version": "3.6.9",
      "mimetype": "text/x-python",
      "codemirror_mode": {
        "name": "ipython",
        "version": 3
      },
      "pygments_lexer": "ipython3",
      "nbconvert_exporter": "python",
      "file_extension": ".py"
    },
    "microsoft": {
      "host": {
        "AzureML": {
          "notebookHasBeenCompleted": true
        }
      }
    },
    "nteract": {
      "version": "nteract-front-end@1.0.0"
    },
    "kernel_info": {
      "name": "python3-azureml"
    }
  },
  "nbformat": 4,
  "nbformat_minor": 2
}