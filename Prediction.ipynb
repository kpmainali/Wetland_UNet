{
  "cells": [
    {
      "cell_type": "code",
      "source": [
        "!pip install rasterio"
      ],
      "outputs": [],
      "execution_count": null,
      "metadata": {
        "collapsed": true,
        "jupyter": {
          "source_hidden": false,
          "outputs_hidden": false
        },
        "nteract": {
          "transient": {
            "deleting": false
          }
        }
      }
    },
    {
      "cell_type": "code",
      "source": [
        "import azureml.core\r\n",
        "from azureml.core import Experiment, Workspace, Dataset, Datastore, ScriptRunConfig, Model\r\n",
        "from azureml.core.environment import Environment\r\n",
        "from azureml.core.conda_dependencies import CondaDependencies\r\n",
        "import os\r\n",
        "import shutil\r\n",
        "import glob\r\n",
        "from os.path import join\r\n",
        "import tensorflow as tf\r\n",
        "from tensorflow.python.keras import models\r\n",
        "from sys import path\r\n",
        "import numpy as np\r\n",
        "import rasterio as rio\r\n",
        "import json\r\n",
        "\r\n",
        "# check core SDK version number\r\n",
        "\r\n",
        "print(\"Azure ML SDK Version: \", azureml.core.VERSION)"
      ],
      "outputs": [
        {
          "output_type": "stream",
          "name": "stdout",
          "text": [
            "Azure ML SDK Version:  1.28.0\n"
          ]
        }
      ],
      "execution_count": 78,
      "metadata": {
        "gather": {
          "logged": 1626877549359
        }
      }
    },
    {
      "cell_type": "code",
      "source": [
        "# make sure we have the most current version of github repo\r\n",
        "%cd Satellite_ComputerVision\r\n",
        "!git pull\r\n",
        "%cd .."
      ],
      "outputs": [
        {
          "output_type": "stream",
          "name": "stdout",
          "text": [
            "/mnt/batch/tasks/shared/LS_root/mounts/clusters/wetlandsbasiccpu/code/Users/mevans/Satellite_ComputerVision\n",
            "Already up to date.\n",
            "/mnt/batch/tasks/shared/LS_root/mounts/clusters/wetlandsbasiccpu/code/Users/mevans\n"
          ]
        }
      ],
      "execution_count": 3,
      "metadata": {
        "collapsed": true,
        "jupyter": {
          "source_hidden": false,
          "outputs_hidden": false
        },
        "nteract": {
          "transient": {
            "deleting": false
          }
        },
        "gather": {
          "logged": 1626191458380
        }
      }
    },
    {
      "cell_type": "code",
      "source": [
        "# attach our utilities folder to the path to import modules\r\n",
        "path.append('/home/azureuser/cloudfiles/code/Users/mevans/Satellite_ComputerVision')"
      ],
      "outputs": [],
      "execution_count": 2,
      "metadata": {
        "collapsed": true,
        "jupyter": {
          "source_hidden": false,
          "outputs_hidden": false
        },
        "nteract": {
          "transient": {
            "deleting": false
          }
        },
        "gather": {
          "logged": 1626195874192
        }
      }
    },
    {
      "cell_type": "code",
      "source": [
        "from utils.model_tools import get_model, make_confusion_matrix, weighted_bce\r\n",
        "from utils.processing import get_training_dataset, normalize\r\n",
        "from utils.prediction_tools import makePredDataset, make_array_predictions, write_geotiff_prediction"
      ],
      "outputs": [],
      "execution_count": 3,
      "metadata": {
        "collapsed": true,
        "jupyter": {
          "source_hidden": false,
          "outputs_hidden": false
        },
        "nteract": {
          "transient": {
            "deleting": false
          }
        },
        "gather": {
          "logged": 1626195875227
        }
      }
    },
    {
      "cell_type": "code",
      "source": [
        "# load workspace configuration from the config.json file in the current folder.\r\n",
        "ws = Workspace.from_config()\r\n",
        "# get metadata about the workspace\r\n",
        "print(ws.name, ws.location, ws.resource_group, sep='\\t')\r\n",
        "# list the registered datastores\r\n",
        "ws.datastores"
      ],
      "outputs": [
        {
          "output_type": "stream",
          "name": "stdout",
          "text": [
            "wetlands\teastus\tcic_ai\n"
          ]
        },
        {
          "output_type": "execute_result",
          "execution_count": 79,
          "data": {
            "text/plain": "{'wetlanddatastore': {\n   \"name\": \"wetlanddatastore\",\n   \"container_name\": \"data\",\n   \"account_name\": \"wetlands2489098639\",\n   \"protocol\": \"https\",\n   \"endpoint\": \"core.windows.net\"\n },\n 'workspacefilestore': {\n   \"name\": \"workspacefilestore\",\n   \"container_name\": \"azureml-filestore-2640f222-8801-40ec-b413-83a7ec003a55\",\n   \"account_name\": \"wetlands2489098639\",\n   \"protocol\": \"https\",\n   \"endpoint\": \"core.windows.net\"\n },\n 'workspaceblobstore': {\n   \"name\": \"workspaceblobstore\",\n   \"container_name\": \"azureml-blobstore-2640f222-8801-40ec-b413-83a7ec003a55\",\n   \"account_name\": \"wetlands2489098639\",\n   \"protocol\": \"https\",\n   \"endpoint\": \"core.windows.net\"\n }}"
          },
          "metadata": {}
        }
      ],
      "execution_count": 79,
      "metadata": {
        "collapsed": true,
        "jupyter": {
          "source_hidden": false,
          "outputs_hidden": false
        },
        "nteract": {
          "transient": {
            "deleting": false
          }
        },
        "gather": {
          "logged": 1626877556303
        }
      }
    },
    {
      "cell_type": "code",
      "source": [
        "# access our registered data share containing image data in this workspace\r\n",
        "datastore = Datastore.get(workspace = ws, datastore_name = 'wetlanddatastore')\r\n",
        "\r\n",
        "train_path = (datastore, 'data/training/')\r\n",
        "eval_path = (datastore, 'data/eval/')\r\n",
        "\r\n",
        "aoi = 'aoi_DE_entire'\r\n",
        "test_path = (datastore, f'data/predict/{aoi}')\r\n",
        "\r\n",
        "train_dataset = Dataset.File.from_files(path = [train_path])\r\n",
        "eval_dataset = Dataset.File.from_files(path = [eval_path])\r\n",
        "test_dataset = Dataset.File.from_files(path = [test_path])"
      ],
      "outputs": [],
      "execution_count": 80,
      "metadata": {
        "collapsed": true,
        "jupyter": {
          "source_hidden": false,
          "outputs_hidden": false
        },
        "nteract": {
          "transient": {
            "deleting": false
          }
        },
        "gather": {
          "logged": 1626877558874
        }
      }
    },
    {
      "cell_type": "code",
      "source": [
        "experiment_name = 'wetland-unet-predict'\r\n",
        "exp = Experiment(workspace = ws, name = experiment_name)"
      ],
      "outputs": [],
      "execution_count": 27,
      "metadata": {
        "collapsed": true,
        "jupyter": {
          "source_hidden": false,
          "outputs_hidden": false
        },
        "nteract": {
          "transient": {
            "deleting": false
          }
        },
        "gather": {
          "logged": 1626191138742
        }
      }
    },
    {
      "cell_type": "code",
      "source": [
        "run_id = 'wetland-unet_1624592804_88f00da3'\r\n",
        "\r\n",
        "run = ws.get_run(run_id)\r\n",
        "\r\n",
        "run.tags\r\n",
        "\r\n",
        "model_name = 'wetland-unet-basic'"
      ],
      "outputs": [],
      "execution_count": 28,
      "metadata": {
        "collapsed": true,
        "jupyter": {
          "source_hidden": false,
          "outputs_hidden": false
        },
        "nteract": {
          "transient": {
            "deleting": false
          }
        },
        "gather": {
          "logged": 1626191142776
        }
      }
    },
    {
      "cell_type": "code",
      "source": [
        "# if we haven't already registered our model\r\n",
        "model = run.register_model(model_name= model_name,\r\n",
        "                           tags=run.tags,\r\n",
        "                           description = 'UNET model delineating wetlands using Sentinel-2, NAIP, lidar data from DE, MN, NY.',\r\n",
        "                           model_path='outputs/',\r\n",
        "                           model_framework = 'Tensorflow',\r\n",
        "                           model_framework_version= '2.0',\r\n",
        "                           datasets = [('training', train_dataset), ('evaluation', eval_dataset), ('testing', test_dataset)])\r\n",
        "print(model.name, model.id, model.version, sep='\\t')"
      ],
      "outputs": [
        {
          "output_type": "stream",
          "name": "stdout",
          "text": [
            "wetland-unet-wlidar\twetland-unet-wlidar:3\t3\n"
          ]
        }
      ],
      "execution_count": 23,
      "metadata": {
        "collapsed": true,
        "jupyter": {
          "source_hidden": false,
          "outputs_hidden": false
        },
        "nteract": {
          "transient": {
            "deleting": false
          }
        },
        "gather": {
          "logged": 1625626867432
        }
      }
    },
    {
      "cell_type": "code",
      "source": [
        "# Create mountcontext and mount the dataset\r\n",
        "test_mount = test_dataset.mount()\r\n",
        "\r\n",
        "# open access to the mount point\r\n",
        "test_mount.start() \r\n",
        "\r\n",
        "# Get the mount point\r\n",
        "dataset_mount_folder = test_mount.mount_point\r\n",
        "print(dataset_mount_folder)\r\n",
        "\r\n",
        "# testFiles = []\r\n",
        "\r\n",
        "# for root, dirs, files in os.walk(dataset_mount_folder):\r\n",
        "#     for f in files:\r\n",
        "#         testFiles.append(join(root, f))\r\n",
        "\r\n"
      ],
      "outputs": [
        {
          "output_type": "stream",
          "name": "stdout",
          "text": [
            "/tmp/tmpe_9hlodk\n"
          ]
        }
      ],
      "execution_count": 29,
      "metadata": {
        "collapsed": true,
        "jupyter": {
          "source_hidden": false,
          "outputs_hidden": false
        },
        "nteract": {
          "transient": {
            "deleting": false
          }
        },
        "gather": {
          "logged": 1626191150185
        }
      }
    },
    {
      "cell_type": "code",
      "source": [
        "predFiles = glob.glob(os.path.join(dataset_mount_folder, '*.gz'))\r\n",
        "jsonFile = glob.glob(os.path.join(dataset_mount_folder, '*.json'))"
      ],
      "outputs": [],
      "execution_count": 10,
      "metadata": {
        "collapsed": true,
        "jupyter": {
          "source_hidden": false,
          "outputs_hidden": false
        },
        "nteract": {
          "transient": {
            "deleting": false
          }
        },
        "gather": {
          "logged": 1626120842599
        }
      }
    },
    {
      "cell_type": "code",
      "source": [
        "# Define some global variabes\r\n",
        "\r\n",
        "# specify surface layers\r\n",
        "lidar = ['lidar_intensity']\r\n",
        "geomorphon = [\"geomorphons\"]\r\n",
        "\r\n",
        "# Specify inputs (Sentinel bands) to the model\r\n",
        "opticalBands = ['B3', 'B4', 'B5', 'B6']\r\n",
        "thermalBands = ['B8', 'B11', 'B12']\r\n",
        "senBands = opticalBands + thermalBands\r\n",
        "\r\n",
        "# get band names for three seasons\r\n",
        "seasonalBands = [[band+'_summer', band + '_fall', band + '_spring'] for band in senBands]\r\n",
        "\r\n",
        "\r\n",
        "# specify NAIP bands\r\n",
        "naipBands = ['R', 'G', 'B', 'N']\r\n",
        "\r\n",
        "BANDS = [item for sublist in seasonalBands for item in sublist] + naipBands\r\n",
        "MORPHS = lidar + geomorphon\r\n",
        "RESPONSE = 'wetland'\r\n",
        "FEATURES = BANDS# + MORPHS + [RESPONSE]\r\n",
        "print(FEATURES)\r\n",
        "# Specify the size and shape of patches expected by the model.\r\n",
        "KERNEL_SIZE = 256\r\n",
        "KERNEL_SHAPE = [KERNEL_SIZE, KERNEL_SIZE]\r\n",
        "DEPTH = len(FEATURES)\r\n",
        "OPTIMIZER = tf.keras.optimizers.Adam(learning_rate=0.0001, beta_1=0.9, beta_2=0.999)\r\n",
        "\r\n",
        "METRICS = {\r\n",
        "    'logits':[tf.keras.metrics.MeanSquaredError(name='mse'), tf.keras.metrics.Precision(name='precision'), tf.keras.metrics.Recall(name='recall')],\r\n",
        "    'classes':[tf.keras.metrics.MeanIoU(num_classes=2, name = 'mean_iou')]\r\n",
        "    }"
      ],
      "outputs": [
        {
          "output_type": "stream",
          "name": "stdout",
          "text": [
            "['B3_summer', 'B3_fall', 'B3_spring', 'B4_summer', 'B4_fall', 'B4_spring', 'B5_summer', 'B5_fall', 'B5_spring', 'B6_summer', 'B6_fall', 'B6_spring', 'B8_summer', 'B8_fall', 'B8_spring', 'B11_summer', 'B11_fall', 'B11_spring', 'B12_summer', 'B12_fall', 'B12_spring', 'R', 'G', 'B', 'N']\n"
          ]
        }
      ],
      "execution_count": 11,
      "metadata": {
        "collapsed": true,
        "jupyter": {
          "source_hidden": false,
          "outputs_hidden": false
        },
        "nteract": {
          "transient": {
            "deleting": false
          }
        },
        "gather": {
          "logged": 1626120900529
        }
      }
    },
    {
      "cell_type": "code",
      "source": [
        "predData = makePredDataset(predFiles, BANDS, one_hot = None)\r\n",
        "iterator = iter(predData)\r\n",
        "print(iterator.next())"
      ],
      "outputs": [
        {
          "output_type": "stream",
          "name": "stdout",
          "text": [
            "Downloaded path: /tmp/tmp_opaiqej/f2f0eff9-8a1a-4ad3-9103-eeb9f2aad740/data/predict/test_aoi_David1_DE/raw_unet256_test_aoi_David1_DE00000.tfrecord.gz is different from target path: /tmp/tmp_opaiqej/f2f0eff9-8a1a-4ad3-9103-eeb9f2aad740/raw_unet256_test_aoi_David1_DE00000.tfrecord.gz\n",
            "tf.Tensor(\n",
            "[[[[ 0.          0.          0.         ...  0.          0.\n",
            "     0.        ]\n",
            "   [ 0.          0.          0.         ...  0.          0.\n",
            "     0.        ]\n",
            "   [ 0.          0.          0.         ...  0.          0.\n",
            "     0.        ]\n",
            "   ...\n",
            "   [ 0.          0.          0.         ...  0.          0.\n",
            "     0.        ]\n",
            "   [ 0.          0.          0.         ...  0.          0.\n",
            "     0.        ]\n",
            "   [ 0.          0.          0.         ...  0.          0.\n",
            "     0.        ]]\n",
            "\n",
            "  [[ 0.          0.          0.         ...  0.          0.\n",
            "     0.        ]\n",
            "   [ 0.          0.          0.         ...  0.          0.\n",
            "     0.        ]\n",
            "   [ 0.          0.          0.         ...  0.          0.\n",
            "     0.        ]\n",
            "   ...\n",
            "   [ 0.          0.          0.         ...  0.          0.\n",
            "     0.        ]\n",
            "   [ 0.          0.          0.         ...  0.          0.\n",
            "     0.        ]\n",
            "   [ 0.          0.          0.         ...  0.          0.\n",
            "     0.        ]]\n",
            "\n",
            "  [[ 0.          0.          0.         ...  0.          0.\n",
            "     0.        ]\n",
            "   [ 0.          0.          0.         ...  0.          0.\n",
            "     0.        ]\n",
            "   [ 0.          0.          0.         ...  0.          0.\n",
            "     0.        ]\n",
            "   ...\n",
            "   [ 0.          0.          0.         ...  0.          0.\n",
            "     0.        ]\n",
            "   [ 0.          0.          0.         ...  0.          0.\n",
            "     0.        ]\n",
            "   [ 0.          0.          0.         ...  0.          0.\n",
            "     0.        ]]\n",
            "\n",
            "  ...\n",
            "\n",
            "  [[ 0.          0.          0.         ...  0.          0.\n",
            "     0.        ]\n",
            "   [ 0.          0.          0.         ...  0.          0.\n",
            "     0.        ]\n",
            "   [ 0.          0.          0.         ...  0.          0.\n",
            "     0.        ]\n",
            "   ...\n",
            "   [-0.58794606 -0.58794606 -0.58794606 ... -1.534182   -1.535231\n",
            "    -1.5247405 ]\n",
            "   [-0.5992093  -0.5992093  -0.5992093  ... -1.5285608  -1.5412625\n",
            "    -1.4544666 ]\n",
            "   [-0.59994197 -0.59994197 -0.59994197 ... -1.5224246  -1.5425476\n",
            "    -1.4567599 ]]\n",
            "\n",
            "  [[ 0.          0.          0.         ...  0.          0.\n",
            "     0.        ]\n",
            "   [ 0.          0.          0.         ...  0.          0.\n",
            "     0.        ]\n",
            "   [ 0.          0.          0.         ...  0.          0.\n",
            "     0.        ]\n",
            "   ...\n",
            "   [-0.59065753 -0.59065753 -0.59065753 ... -1.5315968  -1.5389562\n",
            "    -1.5084676 ]\n",
            "   [-0.5949746  -0.5949746  -0.5949746  ... -1.5233366  -1.541271\n",
            "    -1.4864132 ]\n",
            "   [-0.5932859  -0.5932859  -0.5932859  ... -1.5319827  -1.5435716\n",
            "    -1.4866809 ]]\n",
            "\n",
            "  [[ 0.          0.          0.         ...  0.          0.\n",
            "     0.        ]\n",
            "   [ 0.          0.          0.         ...  0.          0.\n",
            "     0.        ]\n",
            "   [ 0.          0.          0.         ...  0.          0.\n",
            "     0.        ]\n",
            "   ...\n",
            "   [-0.5920922  -0.5920922  -0.5920922  ... -1.5320047  -1.5393724\n",
            "    -1.4972711 ]\n",
            "   [-0.5973811  -0.5973811  -0.5973811  ... -1.5201201  -1.5433736\n",
            "    -1.4757272 ]\n",
            "   [-0.59465104 -0.59465104 -0.59465104 ... -1.5322639  -1.5407013\n",
            "    -1.4837484 ]]]], shape=(1, 384, 384, 25), dtype=float32)\n",
            "Downloaded path: /tmp/tmp_opaiqej/f2f0eff9-8a1a-4ad3-9103-eeb9f2aad740/data/predict/test_aoi_David1_DE/raw_unet256_test_aoi_David1_DE00001.tfrecord.gz is different from target path: /tmp/tmp_opaiqej/f2f0eff9-8a1a-4ad3-9103-eeb9f2aad740/raw_unet256_test_aoi_David1_DE00001.tfrecord.gz\n"
          ]
        }
      ],
      "execution_count": 12,
      "metadata": {
        "collapsed": true,
        "jupyter": {
          "source_hidden": false,
          "outputs_hidden": false
        },
        "nteract": {
          "transient": {
            "deleting": false
          }
        },
        "gather": {
          "logged": 1626120903509
        }
      }
    },
    {
      "cell_type": "code",
      "source": [
        "model_dir = Model.get_model_path(model_name, _workspace = ws)\r\n",
        "weight_path = glob.glob(os.path.join(model_dir, '*.hdf5'))\r\n",
        "weight_path[0]"
      ],
      "outputs": [
        {
          "output_type": "execute_result",
          "execution_count": 13,
          "data": {
            "text/plain": "'azureml-models/wetland-unet-basic/6/outputs/best_weights_28Jun21.hdf5'"
          },
          "metadata": {}
        }
      ],
      "execution_count": 13,
      "metadata": {
        "collapsed": true,
        "jupyter": {
          "source_hidden": false,
          "outputs_hidden": false
        },
        "nteract": {
          "transient": {
            "deleting": false
          }
        },
        "gather": {
          "logged": 1626120920374
        }
      }
    },
    {
      "cell_type": "code",
      "source": [
        "def get_weighted_bce(y_true,y_pred):\r\n",
        "  return weighted_bce(y_true, y_pred, 1)\r\n",
        "# m = models.load_model('azureml-models/wetland-unet-basic/5/outputs/unet256.h5', custom_objects = {'get_weighted_bce': get_weighted_bce})\r\n",
        "m = get_model(depth = DEPTH, optim = OPTIMIZER, loss = get_weighted_bce, mets = METRICS, bias = None)\r\n",
        "# basic model\r\n",
        "# m.load_weights('azureml-models/wetland-unet-basic/5/outputs/best_weights_23Jun21.hdf5')\r\n",
        "# wlidar model\r\n",
        "m.load_weights(weight_path[0])\r\n",
        "# # wgeomorphon model\r\n",
        "# m.load_weights('azureml-models/wetland-unet-wgeomorphon/2/outputs/best_weights_25Jun21.hdf5')\r\n",
        "# # full model\r\n",
        "# m.load_weights('azureml-models/wetland-unet-full/2/outputs/best_weights_24Jun21.hdf5')"
      ],
      "outputs": [
        {
          "output_type": "stream",
          "name": "stdout",
          "text": [
            "WARNING:tensorflow:Output classes missing from loss dictionary. We assume this was done on purpose. The fit and evaluate APIs will not be expecting any data to be passed to classes.\n"
          ]
        }
      ],
      "execution_count": 14,
      "metadata": {
        "collapsed": true,
        "jupyter": {
          "source_hidden": false,
          "outputs_hidden": false
        },
        "nteract": {
          "transient": {
            "deleting": false
          }
        },
        "gather": {
          "logged": 1626120927701
        }
      }
    },
    {
      "cell_type": "code",
      "source": [
        "write_geotiff_predictions(predFiles, m, jsonFile[0], BANDS, 50, 'MN_test_basic', './', export = False)"
      ],
      "outputs": [
        {
          "output_type": "stream",
          "name": "stdout",
          "text": [
            "Downloaded path: /tmp/tmpj915bxd2/d3c275c3-86ed-49c6-8694-492ed3da5645/data/predict/test_aoi_David2_MN/raw_unet256_test_aoi_David2_MNmixer.json is different from target path: /tmp/tmpj915bxd2/d3c275c3-86ed-49c6-8694-492ed3da5645/raw_unet256_test_aoi_David2_MNmixer.json\n",
            "Downloaded path: /tmp/tmpj915bxd2/d3c275c3-86ed-49c6-8694-492ed3da5645/data/predict/test_aoi_David2_MN/raw_unet256_test_aoi_David2_MN00000.tfrecord.gz is different from target path: /tmp/tmpj915bxd2/d3c275c3-86ed-49c6-8694-492ed3da5645/raw_unet256_test_aoi_David2_MN00000.tfrecord.gz\n",
            "Downloaded path: /tmp/tmpj915bxd2/d3c275c3-86ed-49c6-8694-492ed3da5645/data/predict/test_aoi_David2_MN/raw_unet256_test_aoi_David2_MN00001.tfrecord.gz is different from target path: /tmp/tmpj915bxd2/d3c275c3-86ed-49c6-8694-492ed3da5645/raw_unet256_test_aoi_David2_MN00001.tfrecord.gz\n",
            "Downloaded path: /tmp/tmpj915bxd2/d3c275c3-86ed-49c6-8694-492ed3da5645/data/predict/test_aoi_David2_MN/raw_unet256_test_aoi_David2_MN00002.tfrecord.gz is different from target path: /tmp/tmpj915bxd2/d3c275c3-86ed-49c6-8694-492ed3da5645/raw_unet256_test_aoi_David2_MN00002.tfrecord.gz\n",
            "Downloaded path: /tmp/tmpj915bxd2/d3c275c3-86ed-49c6-8694-492ed3da5645/data/predict/test_aoi_David2_MN/raw_unet256_test_aoi_David2_MN00003.tfrecord.gz is different from target path: /tmp/tmpj915bxd2/d3c275c3-86ed-49c6-8694-492ed3da5645/raw_unet256_test_aoi_David2_MN00003.tfrecord.gz\n",
            "Downloaded path: /tmp/tmpj915bxd2/d3c275c3-86ed-49c6-8694-492ed3da5645/data/predict/test_aoi_David2_MN/raw_unet256_test_aoi_David2_MN00004.tfrecord.gz is different from target path: /tmp/tmpj915bxd2/d3c275c3-86ed-49c6-8694-492ed3da5645/raw_unet256_test_aoi_David2_MN00004.tfrecord.gz\n",
            "Downloaded path: /tmp/tmpj915bxd2/d3c275c3-86ed-49c6-8694-492ed3da5645/data/predict/test_aoi_David2_MN/raw_unet256_test_aoi_David2_MN00005.tfrecord.gz is different from target path: /tmp/tmpj915bxd2/d3c275c3-86ed-49c6-8694-492ed3da5645/raw_unet256_test_aoi_David2_MN00005.tfrecord.gz\n",
            "Downloaded path: /tmp/tmpj915bxd2/d3c275c3-86ed-49c6-8694-492ed3da5645/data/predict/test_aoi_David2_MN/raw_unet256_test_aoi_David2_MN00006.tfrecord.gz is different from target path: /tmp/tmpj915bxd2/d3c275c3-86ed-49c6-8694-492ed3da5645/raw_unet256_test_aoi_David2_MN00006.tfrecord.gz\n"
          ]
        }
      ],
      "execution_count": 27,
      "metadata": {
        "collapsed": true,
        "jupyter": {
          "source_hidden": false,
          "outputs_hidden": false
        },
        "nteract": {
          "transient": {
            "deleting": false
          }
        }
      }
    },
    {
      "cell_type": "code",
      "source": [
        "preds = make_array_predictions(imageDataset = predData, model = m, jsonFile = jsonFile[0])"
      ],
      "outputs": [
        {
          "output_type": "stream",
          "name": "stdout",
          "text": [
            "Downloaded path: /tmp/tmp_opaiqej/f2f0eff9-8a1a-4ad3-9103-eeb9f2aad740/data/predict/test_aoi_David1_DE/raw_unet256_test_aoi_David1_DEmixer.json is different from target path: /tmp/tmp_opaiqej/f2f0eff9-8a1a-4ad3-9103-eeb9f2aad740/raw_unet256_test_aoi_David1_DEmixer.json\n",
            "{'projection': {'crs': 'EPSG:6347', 'affine': {'doubleMatrix': [0.9999999999999999, 0.0, 460215.9967001479, 0.0, -0.9999999999999999, 4322754.994584635]}}, 'patchDimensions': [256, 256], 'patchesPerRow': 24, 'totalPatches': 600}\n",
            "Running predictions...\n",
            "Downloaded path: /tmp/tmp_opaiqej/f2f0eff9-8a1a-4ad3-9103-eeb9f2aad740/data/predict/test_aoi_David1_DE/raw_unet256_test_aoi_David1_DE00002.tfrecord.gz is different from target path: /tmp/tmp_opaiqej/f2f0eff9-8a1a-4ad3-9103-eeb9f2aad740/raw_unet256_test_aoi_David1_DE00002.tfrecord.gz\n",
            "Downloaded path: /tmp/tmp_opaiqej/f2f0eff9-8a1a-4ad3-9103-eeb9f2aad740/data/predict/test_aoi_David1_DE/raw_unet256_test_aoi_David1_DE00003.tfrecord.gz is different from target path: /tmp/tmp_opaiqej/f2f0eff9-8a1a-4ad3-9103-eeb9f2aad740/raw_unet256_test_aoi_David1_DE00003.tfrecord.gz\n",
            "  8/600 [..............................] - ETA: 28:40Downloaded path: /tmp/tmp_opaiqej/f2f0eff9-8a1a-4ad3-9103-eeb9f2aad740/data/predict/test_aoi_David1_DE/raw_unet256_test_aoi_David1_DE00004.tfrecord.gz is different from target path: /tmp/tmp_opaiqej/f2f0eff9-8a1a-4ad3-9103-eeb9f2aad740/raw_unet256_test_aoi_David1_DE00004.tfrecord.gz\n",
            " 16/600 [..............................] - ETA: 14:25Downloaded path: /tmp/tmp_opaiqej/f2f0eff9-8a1a-4ad3-9103-eeb9f2aad740/data/predict/test_aoi_David1_DE/raw_unet256_test_aoi_David1_DE00005.tfrecord.gz is different from target path: /tmp/tmp_opaiqej/f2f0eff9-8a1a-4ad3-9103-eeb9f2aad740/raw_unet256_test_aoi_David1_DE00005.tfrecord.gz\n",
            " 23/600 [>.............................] - ETA: 10:05Downloaded path: /tmp/tmp_opaiqej/f2f0eff9-8a1a-4ad3-9103-eeb9f2aad740/data/predict/test_aoi_David1_DE/raw_unet256_test_aoi_David1_DE00006.tfrecord.gz is different from target path: /tmp/tmp_opaiqej/f2f0eff9-8a1a-4ad3-9103-eeb9f2aad740/raw_unet256_test_aoi_David1_DE00006.tfrecord.gz\n",
            " 30/600 [>.............................] - ETA: 7:46Downloaded path: /tmp/tmp_opaiqej/f2f0eff9-8a1a-4ad3-9103-eeb9f2aad740/data/predict/test_aoi_David1_DE/raw_unet256_test_aoi_David1_DE00007.tfrecord.gz is different from target path: /tmp/tmp_opaiqej/f2f0eff9-8a1a-4ad3-9103-eeb9f2aad740/raw_unet256_test_aoi_David1_DE00007.tfrecord.gz\n",
            " 38/600 [>.............................] - ETA: 6:09Downloaded path: /tmp/tmp_opaiqej/f2f0eff9-8a1a-4ad3-9103-eeb9f2aad740/data/predict/test_aoi_David1_DE/raw_unet256_test_aoi_David1_DE00008.tfrecord.gz is different from target path: /tmp/tmp_opaiqej/f2f0eff9-8a1a-4ad3-9103-eeb9f2aad740/raw_unet256_test_aoi_David1_DE00008.tfrecord.gz\n",
            " 45/600 [=>............................] - ETA: 5:13Downloaded path: /tmp/tmp_opaiqej/f2f0eff9-8a1a-4ad3-9103-eeb9f2aad740/data/predict/test_aoi_David1_DE/raw_unet256_test_aoi_David1_DE00009.tfrecord.gz is different from target path: /tmp/tmp_opaiqej/f2f0eff9-8a1a-4ad3-9103-eeb9f2aad740/raw_unet256_test_aoi_David1_DE00009.tfrecord.gz\n",
            " 51/600 [=>............................] - ETA: 4:37Downloaded path: /tmp/tmp_opaiqej/f2f0eff9-8a1a-4ad3-9103-eeb9f2aad740/data/predict/test_aoi_David1_DE/raw_unet256_test_aoi_David1_DE00010.tfrecord.gz is different from target path: /tmp/tmp_opaiqej/f2f0eff9-8a1a-4ad3-9103-eeb9f2aad740/raw_unet256_test_aoi_David1_DE00010.tfrecord.gz\n",
            " 58/600 [=>............................] - ETA: 4:04Downloaded path: /tmp/tmp_opaiqej/f2f0eff9-8a1a-4ad3-9103-eeb9f2aad740/data/predict/test_aoi_David1_DE/raw_unet256_test_aoi_David1_DE00011.tfrecord.gz is different from target path: /tmp/tmp_opaiqej/f2f0eff9-8a1a-4ad3-9103-eeb9f2aad740/raw_unet256_test_aoi_David1_DE00011.tfrecord.gz\n",
            " 64/600 [==>...........................] - ETA: 3:42Downloaded path: /tmp/tmp_opaiqej/f2f0eff9-8a1a-4ad3-9103-eeb9f2aad740/data/predict/test_aoi_David1_DE/raw_unet256_test_aoi_David1_DE00012.tfrecord.gz is different from target path: /tmp/tmp_opaiqej/f2f0eff9-8a1a-4ad3-9103-eeb9f2aad740/raw_unet256_test_aoi_David1_DE00012.tfrecord.gz\n",
            " 71/600 [==>...........................] - ETA: 3:20Downloaded path: /tmp/tmp_opaiqej/f2f0eff9-8a1a-4ad3-9103-eeb9f2aad740/data/predict/test_aoi_David1_DE/raw_unet256_test_aoi_David1_DE00013.tfrecord.gz is different from target path: /tmp/tmp_opaiqej/f2f0eff9-8a1a-4ad3-9103-eeb9f2aad740/raw_unet256_test_aoi_David1_DE00013.tfrecord.gz\n",
            " 78/600 [==>...........................] - ETA: 3:03Downloaded path: /tmp/tmp_opaiqej/f2f0eff9-8a1a-4ad3-9103-eeb9f2aad740/data/predict/test_aoi_David1_DE/raw_unet256_test_aoi_David1_DE00014.tfrecord.gz is different from target path: /tmp/tmp_opaiqej/f2f0eff9-8a1a-4ad3-9103-eeb9f2aad740/raw_unet256_test_aoi_David1_DE00014.tfrecord.gz\n",
            " 84/600 [===>..........................] - ETA: 2:50Downloaded path: /tmp/tmp_opaiqej/f2f0eff9-8a1a-4ad3-9103-eeb9f2aad740/data/predict/test_aoi_David1_DE/raw_unet256_test_aoi_David1_DE00015.tfrecord.gz is different from target path: /tmp/tmp_opaiqej/f2f0eff9-8a1a-4ad3-9103-eeb9f2aad740/raw_unet256_test_aoi_David1_DE00015.tfrecord.gz\n",
            " 91/600 [===>..........................] - ETA: 2:37Downloaded path: /tmp/tmp_opaiqej/f2f0eff9-8a1a-4ad3-9103-eeb9f2aad740/data/predict/test_aoi_David1_DE/raw_unet256_test_aoi_David1_DE00016.tfrecord.gz is different from target path: /tmp/tmp_opaiqej/f2f0eff9-8a1a-4ad3-9103-eeb9f2aad740/raw_unet256_test_aoi_David1_DE00016.tfrecord.gz\n",
            "101/600 [====>.........................] - ETA: 2:21Downloaded path: /tmp/tmp_opaiqej/f2f0eff9-8a1a-4ad3-9103-eeb9f2aad740/data/predict/test_aoi_David1_DE/raw_unet256_test_aoi_David1_DE00017.tfrecord.gz is different from target path: /tmp/tmp_opaiqej/f2f0eff9-8a1a-4ad3-9103-eeb9f2aad740/raw_unet256_test_aoi_David1_DE00017.tfrecord.gz\n",
            "107/600 [====>.........................] - ETA: 2:14Downloaded path: /tmp/tmp_opaiqej/f2f0eff9-8a1a-4ad3-9103-eeb9f2aad740/data/predict/test_aoi_David1_DE/raw_unet256_test_aoi_David1_DE00018.tfrecord.gz is different from target path: /tmp/tmp_opaiqej/f2f0eff9-8a1a-4ad3-9103-eeb9f2aad740/raw_unet256_test_aoi_David1_DE00018.tfrecord.gz\n",
            "113/600 [====>.........................] - ETA: 2:07Downloaded path: /tmp/tmp_opaiqej/f2f0eff9-8a1a-4ad3-9103-eeb9f2aad740/data/predict/test_aoi_David1_DE/raw_unet256_test_aoi_David1_DE00019.tfrecord.gz is different from target path: /tmp/tmp_opaiqej/f2f0eff9-8a1a-4ad3-9103-eeb9f2aad740/raw_unet256_test_aoi_David1_DE00019.tfrecord.gz\n",
            "119/600 [====>.........................] - ETA: 2:01Downloaded path: /tmp/tmp_opaiqej/f2f0eff9-8a1a-4ad3-9103-eeb9f2aad740/data/predict/test_aoi_David1_DE/raw_unet256_test_aoi_David1_DE00020.tfrecord.gz is different from target path: /tmp/tmp_opaiqej/f2f0eff9-8a1a-4ad3-9103-eeb9f2aad740/raw_unet256_test_aoi_David1_DE00020.tfrecord.gz\n",
            "125/600 [=====>........................] - ETA: 1:55Downloaded path: /tmp/tmp_opaiqej/f2f0eff9-8a1a-4ad3-9103-eeb9f2aad740/data/predict/test_aoi_David1_DE/raw_unet256_test_aoi_David1_DE00021.tfrecord.gz is different from target path: /tmp/tmp_opaiqej/f2f0eff9-8a1a-4ad3-9103-eeb9f2aad740/raw_unet256_test_aoi_David1_DE00021.tfrecord.gz\n",
            "132/600 [=====>........................] - ETA: 1:49Downloaded path: /tmp/tmp_opaiqej/f2f0eff9-8a1a-4ad3-9103-eeb9f2aad740/data/predict/test_aoi_David1_DE/raw_unet256_test_aoi_David1_DE00022.tfrecord.gz is different from target path: /tmp/tmp_opaiqej/f2f0eff9-8a1a-4ad3-9103-eeb9f2aad740/raw_unet256_test_aoi_David1_DE00022.tfrecord.gz\n",
            "137/600 [=====>........................] - ETA: 1:45Downloaded path: /tmp/tmp_opaiqej/f2f0eff9-8a1a-4ad3-9103-eeb9f2aad740/data/predict/test_aoi_David1_DE/raw_unet256_test_aoi_David1_DE00023.tfrecord.gz is different from target path: /tmp/tmp_opaiqej/f2f0eff9-8a1a-4ad3-9103-eeb9f2aad740/raw_unet256_test_aoi_David1_DE00023.tfrecord.gz\n",
            "144/600 [======>.......................] - ETA: 1:39Downloaded path: /tmp/tmp_opaiqej/f2f0eff9-8a1a-4ad3-9103-eeb9f2aad740/data/predict/test_aoi_David1_DE/raw_unet256_test_aoi_David1_DE00024.tfrecord.gz is different from target path: /tmp/tmp_opaiqej/f2f0eff9-8a1a-4ad3-9103-eeb9f2aad740/raw_unet256_test_aoi_David1_DE00024.tfrecord.gz\n",
            "149/600 [======>.......................] - ETA: 1:36Downloaded path: /tmp/tmp_opaiqej/f2f0eff9-8a1a-4ad3-9103-eeb9f2aad740/data/predict/test_aoi_David1_DE/raw_unet256_test_aoi_David1_DE00025.tfrecord.gz is different from target path: /tmp/tmp_opaiqej/f2f0eff9-8a1a-4ad3-9103-eeb9f2aad740/raw_unet256_test_aoi_David1_DE00025.tfrecord.gz\n",
            "155/600 [======>.......................] - ETA: 1:32Downloaded path: /tmp/tmp_opaiqej/f2f0eff9-8a1a-4ad3-9103-eeb9f2aad740/data/predict/test_aoi_David1_DE/raw_unet256_test_aoi_David1_DE00026.tfrecord.gz is different from target path: /tmp/tmp_opaiqej/f2f0eff9-8a1a-4ad3-9103-eeb9f2aad740/raw_unet256_test_aoi_David1_DE00026.tfrecord.gz\n",
            "161/600 [=======>......................] - ETA: 1:29Downloaded path: /tmp/tmp_opaiqej/f2f0eff9-8a1a-4ad3-9103-eeb9f2aad740/data/predict/test_aoi_David1_DE/raw_unet256_test_aoi_David1_DE00027.tfrecord.gz is different from target path: /tmp/tmp_opaiqej/f2f0eff9-8a1a-4ad3-9103-eeb9f2aad740/raw_unet256_test_aoi_David1_DE00027.tfrecord.gz\n",
            "167/600 [=======>......................] - ETA: 1:25Downloaded path: /tmp/tmp_opaiqej/f2f0eff9-8a1a-4ad3-9103-eeb9f2aad740/data/predict/test_aoi_David1_DE/raw_unet256_test_aoi_David1_DE00028.tfrecord.gz is different from target path: /tmp/tmp_opaiqej/f2f0eff9-8a1a-4ad3-9103-eeb9f2aad740/raw_unet256_test_aoi_David1_DE00028.tfrecord.gz\n",
            "173/600 [=======>......................] - ETA: 1:22Downloaded path: /tmp/tmp_opaiqej/f2f0eff9-8a1a-4ad3-9103-eeb9f2aad740/data/predict/test_aoi_David1_DE/raw_unet256_test_aoi_David1_DE00029.tfrecord.gz is different from target path: /tmp/tmp_opaiqej/f2f0eff9-8a1a-4ad3-9103-eeb9f2aad740/raw_unet256_test_aoi_David1_DE00029.tfrecord.gz\n",
            "179/600 [=======>......................] - ETA: 1:19Downloaded path: /tmp/tmp_opaiqej/f2f0eff9-8a1a-4ad3-9103-eeb9f2aad740/data/predict/test_aoi_David1_DE/raw_unet256_test_aoi_David1_DE00030.tfrecord.gz is different from target path: /tmp/tmp_opaiqej/f2f0eff9-8a1a-4ad3-9103-eeb9f2aad740/raw_unet256_test_aoi_David1_DE00030.tfrecord.gz\n",
            "185/600 [========>.....................] - ETA: 1:16Downloaded path: /tmp/tmp_opaiqej/f2f0eff9-8a1a-4ad3-9103-eeb9f2aad740/data/predict/test_aoi_David1_DE/raw_unet256_test_aoi_David1_DE00031.tfrecord.gz is different from target path: /tmp/tmp_opaiqej/f2f0eff9-8a1a-4ad3-9103-eeb9f2aad740/raw_unet256_test_aoi_David1_DE00031.tfrecord.gz\n",
            "192/600 [========>.....................] - ETA: 1:13Downloaded path: /tmp/tmp_opaiqej/f2f0eff9-8a1a-4ad3-9103-eeb9f2aad740/data/predict/test_aoi_David1_DE/raw_unet256_test_aoi_David1_DE00032.tfrecord.gz is different from target path: /tmp/tmp_opaiqej/f2f0eff9-8a1a-4ad3-9103-eeb9f2aad740/raw_unet256_test_aoi_David1_DE00032.tfrecord.gz\n",
            "197/600 [========>.....................] - ETA: 1:11Downloaded path: /tmp/tmp_opaiqej/f2f0eff9-8a1a-4ad3-9103-eeb9f2aad740/data/predict/test_aoi_David1_DE/raw_unet256_test_aoi_David1_DE00033.tfrecord.gz is different from target path: /tmp/tmp_opaiqej/f2f0eff9-8a1a-4ad3-9103-eeb9f2aad740/raw_unet256_test_aoi_David1_DE00033.tfrecord.gz\n",
            "203/600 [=========>....................] - ETA: 1:09Downloaded path: /tmp/tmp_opaiqej/f2f0eff9-8a1a-4ad3-9103-eeb9f2aad740/data/predict/test_aoi_David1_DE/raw_unet256_test_aoi_David1_DE00034.tfrecord.gz is different from target path: /tmp/tmp_opaiqej/f2f0eff9-8a1a-4ad3-9103-eeb9f2aad740/raw_unet256_test_aoi_David1_DE00034.tfrecord.gz\n",
            "210/600 [=========>....................] - ETA: 1:06Downloaded path: /tmp/tmp_opaiqej/f2f0eff9-8a1a-4ad3-9103-eeb9f2aad740/data/predict/test_aoi_David1_DE/raw_unet256_test_aoi_David1_DE00035.tfrecord.gz is different from target path: /tmp/tmp_opaiqej/f2f0eff9-8a1a-4ad3-9103-eeb9f2aad740/raw_unet256_test_aoi_David1_DE00035.tfrecord.gz\n",
            "215/600 [=========>....................] - ETA: 1:04Downloaded path: /tmp/tmp_opaiqej/f2f0eff9-8a1a-4ad3-9103-eeb9f2aad740/data/predict/test_aoi_David1_DE/raw_unet256_test_aoi_David1_DE00036.tfrecord.gz is different from target path: /tmp/tmp_opaiqej/f2f0eff9-8a1a-4ad3-9103-eeb9f2aad740/raw_unet256_test_aoi_David1_DE00036.tfrecord.gz\n",
            "221/600 [==========>...................] - ETA: 1:02Downloaded path: /tmp/tmp_opaiqej/f2f0eff9-8a1a-4ad3-9103-eeb9f2aad740/data/predict/test_aoi_David1_DE/raw_unet256_test_aoi_David1_DE00037.tfrecord.gz is different from target path: /tmp/tmp_opaiqej/f2f0eff9-8a1a-4ad3-9103-eeb9f2aad740/raw_unet256_test_aoi_David1_DE00037.tfrecord.gz\n",
            "228/600 [==========>...................] - ETA: 1:00Downloaded path: /tmp/tmp_opaiqej/f2f0eff9-8a1a-4ad3-9103-eeb9f2aad740/data/predict/test_aoi_David1_DE/raw_unet256_test_aoi_David1_DE00038.tfrecord.gz is different from target path: /tmp/tmp_opaiqej/f2f0eff9-8a1a-4ad3-9103-eeb9f2aad740/raw_unet256_test_aoi_David1_DE00038.tfrecord.gz\n",
            "233/600 [==========>...................] - ETA: 58sDownloaded path: /tmp/tmp_opaiqej/f2f0eff9-8a1a-4ad3-9103-eeb9f2aad740/data/predict/test_aoi_David1_DE/raw_unet256_test_aoi_David1_DE00039.tfrecord.gz is different from target path: /tmp/tmp_opaiqej/f2f0eff9-8a1a-4ad3-9103-eeb9f2aad740/raw_unet256_test_aoi_David1_DE00039.tfrecord.gz\n",
            "239/600 [==========>...................] - ETA: 56sDownloaded path: /tmp/tmp_opaiqej/f2f0eff9-8a1a-4ad3-9103-eeb9f2aad740/data/predict/test_aoi_David1_DE/raw_unet256_test_aoi_David1_DE00040.tfrecord.gz is different from target path: /tmp/tmp_opaiqej/f2f0eff9-8a1a-4ad3-9103-eeb9f2aad740/raw_unet256_test_aoi_David1_DE00040.tfrecord.gz\n",
            "246/600 [===========>..................] - ETA: 54sDownloaded path: /tmp/tmp_opaiqej/f2f0eff9-8a1a-4ad3-9103-eeb9f2aad740/data/predict/test_aoi_David1_DE/raw_unet256_test_aoi_David1_DE00041.tfrecord.gz is different from target path: /tmp/tmp_opaiqej/f2f0eff9-8a1a-4ad3-9103-eeb9f2aad740/raw_unet256_test_aoi_David1_DE00041.tfrecord.gz\n",
            "252/600 [===========>..................] - ETA: 53sDownloaded path: /tmp/tmp_opaiqej/f2f0eff9-8a1a-4ad3-9103-eeb9f2aad740/data/predict/test_aoi_David1_DE/raw_unet256_test_aoi_David1_DE00042.tfrecord.gz is different from target path: /tmp/tmp_opaiqej/f2f0eff9-8a1a-4ad3-9103-eeb9f2aad740/raw_unet256_test_aoi_David1_DE00042.tfrecord.gz\n",
            "257/600 [===========>..................] - ETA: 52sDownloaded path: /tmp/tmp_opaiqej/f2f0eff9-8a1a-4ad3-9103-eeb9f2aad740/data/predict/test_aoi_David1_DE/raw_unet256_test_aoi_David1_DE00043.tfrecord.gz is different from target path: /tmp/tmp_opaiqej/f2f0eff9-8a1a-4ad3-9103-eeb9f2aad740/raw_unet256_test_aoi_David1_DE00043.tfrecord.gz\n",
            "263/600 [============>.................] - ETA: 50sDownloaded path: /tmp/tmp_opaiqej/f2f0eff9-8a1a-4ad3-9103-eeb9f2aad740/data/predict/test_aoi_David1_DE/raw_unet256_test_aoi_David1_DE00044.tfrecord.gz is different from target path: /tmp/tmp_opaiqej/f2f0eff9-8a1a-4ad3-9103-eeb9f2aad740/raw_unet256_test_aoi_David1_DE00044.tfrecord.gz\n",
            "Downloaded path: /tmp/tmp_opaiqej/f2f0eff9-8a1a-4ad3-9103-eeb9f2aad740/data/predict/test_aoi_David1_DE/raw_unet256_test_aoi_David1_DE00045.tfrecord.gz is different from target path: /tmp/tmp_opaiqej/f2f0eff9-8a1a-4ad3-9103-eeb9f2aad740/raw_unet256_test_aoi_David1_DE00045.tfrecord.gz270/600 [============>.................] - ETA: 48s\n",
            "276/600 [============>.................] - ETA: 47sDownloaded path: /tmp/tmp_opaiqej/f2f0eff9-8a1a-4ad3-9103-eeb9f2aad740/data/predict/test_aoi_David1_DE/raw_unet256_test_aoi_David1_DE00046.tfrecord.gz is different from target path: /tmp/tmp_opaiqej/f2f0eff9-8a1a-4ad3-9103-eeb9f2aad740/raw_unet256_test_aoi_David1_DE00046.tfrecord.gz\n",
            "281/600 [=============>................] - ETA: 46sDownloaded path: /tmp/tmp_opaiqej/f2f0eff9-8a1a-4ad3-9103-eeb9f2aad740/data/predict/test_aoi_David1_DE/raw_unet256_test_aoi_David1_DE00047.tfrecord.gz is different from target path: /tmp/tmp_opaiqej/f2f0eff9-8a1a-4ad3-9103-eeb9f2aad740/raw_unet256_test_aoi_David1_DE00047.tfrecord.gz\n",
            "288/600 [=============>................] - ETA: 44sDownloaded path: /tmp/tmp_opaiqej/f2f0eff9-8a1a-4ad3-9103-eeb9f2aad740/data/predict/test_aoi_David1_DE/raw_unet256_test_aoi_David1_DE00048.tfrecord.gz is different from target path: /tmp/tmp_opaiqej/f2f0eff9-8a1a-4ad3-9103-eeb9f2aad740/raw_unet256_test_aoi_David1_DE00048.tfrecord.gz\n",
            "294/600 [=============>................] - ETA: 43sDownloaded path: /tmp/tmp_opaiqej/f2f0eff9-8a1a-4ad3-9103-eeb9f2aad740/data/predict/test_aoi_David1_DE/raw_unet256_test_aoi_David1_DE00049.tfrecord.gz is different from target path: /tmp/tmp_opaiqej/f2f0eff9-8a1a-4ad3-9103-eeb9f2aad740/raw_unet256_test_aoi_David1_DE00049.tfrecord.gz\n",
            "300/600 [==============>...............] - ETA: 42sDownloaded path: /tmp/tmp_opaiqej/f2f0eff9-8a1a-4ad3-9103-eeb9f2aad740/data/predict/test_aoi_David1_DE/raw_unet256_test_aoi_David1_DE00050.tfrecord.gz is different from target path: /tmp/tmp_opaiqej/f2f0eff9-8a1a-4ad3-9103-eeb9f2aad740/raw_unet256_test_aoi_David1_DE00050.tfrecord.gz\n",
            "306/600 [==============>...............] - ETA: 41sDownloaded path: /tmp/tmp_opaiqej/f2f0eff9-8a1a-4ad3-9103-eeb9f2aad740/data/predict/test_aoi_David1_DE/raw_unet256_test_aoi_David1_DE00051.tfrecord.gz is different from target path: /tmp/tmp_opaiqej/f2f0eff9-8a1a-4ad3-9103-eeb9f2aad740/raw_unet256_test_aoi_David1_DE00051.tfrecord.gz\n",
            "312/600 [==============>...............] - ETA: 40sDownloaded path: /tmp/tmp_opaiqej/f2f0eff9-8a1a-4ad3-9103-eeb9f2aad740/data/predict/test_aoi_David1_DE/raw_unet256_test_aoi_David1_DE00052.tfrecord.gz is different from target path: /tmp/tmp_opaiqej/f2f0eff9-8a1a-4ad3-9103-eeb9f2aad740/raw_unet256_test_aoi_David1_DE00052.tfrecord.gz\n",
            "318/600 [==============>...............] - ETA: 39sDownloaded path: /tmp/tmp_opaiqej/f2f0eff9-8a1a-4ad3-9103-eeb9f2aad740/data/predict/test_aoi_David1_DE/raw_unet256_test_aoi_David1_DE00053.tfrecord.gz is different from target path: /tmp/tmp_opaiqej/f2f0eff9-8a1a-4ad3-9103-eeb9f2aad740/raw_unet256_test_aoi_David1_DE00053.tfrecord.gz\n",
            "324/600 [===============>..............] - ETA: 37sDownloaded path: /tmp/tmp_opaiqej/f2f0eff9-8a1a-4ad3-9103-eeb9f2aad740/data/predict/test_aoi_David1_DE/raw_unet256_test_aoi_David1_DE00054.tfrecord.gz is different from target path: /tmp/tmp_opaiqej/f2f0eff9-8a1a-4ad3-9103-eeb9f2aad740/raw_unet256_test_aoi_David1_DE00054.tfrecord.gz\n",
            "330/600 [===============>..............] - ETA: 36sDownloaded path: /tmp/tmp_opaiqej/f2f0eff9-8a1a-4ad3-9103-eeb9f2aad740/data/predict/test_aoi_David1_DE/raw_unet256_test_aoi_David1_DE00055.tfrecord.gz is different from target path: /tmp/tmp_opaiqej/f2f0eff9-8a1a-4ad3-9103-eeb9f2aad740/raw_unet256_test_aoi_David1_DE00055.tfrecord.gz\n",
            "336/600 [===============>..............] - ETA: 35sDownloaded path: /tmp/tmp_opaiqej/f2f0eff9-8a1a-4ad3-9103-eeb9f2aad740/data/predict/test_aoi_David1_DE/raw_unet256_test_aoi_David1_DE00056.tfrecord.gz is different from target path: /tmp/tmp_opaiqej/f2f0eff9-8a1a-4ad3-9103-eeb9f2aad740/raw_unet256_test_aoi_David1_DE00056.tfrecord.gz\n",
            "341/600 [================>.............] - ETA: 37sDownloaded path: /tmp/tmp_opaiqej/f2f0eff9-8a1a-4ad3-9103-eeb9f2aad740/data/predict/test_aoi_David1_DE/raw_unet256_test_aoi_David1_DE00057.tfrecord.gz is different from target path: /tmp/tmp_opaiqej/f2f0eff9-8a1a-4ad3-9103-eeb9f2aad740/raw_unet256_test_aoi_David1_DE00057.tfrecord.gz\n",
            "347/600 [================>.............] - ETA: 35sDownloaded path: /tmp/tmp_opaiqej/f2f0eff9-8a1a-4ad3-9103-eeb9f2aad740/data/predict/test_aoi_David1_DE/raw_unet256_test_aoi_David1_DE00058.tfrecord.gz is different from target path: /tmp/tmp_opaiqej/f2f0eff9-8a1a-4ad3-9103-eeb9f2aad740/raw_unet256_test_aoi_David1_DE00058.tfrecord.gz\n",
            "354/600 [================>.............] - ETA: 34sDownloaded path: /tmp/tmp_opaiqej/f2f0eff9-8a1a-4ad3-9103-eeb9f2aad740/data/predict/test_aoi_David1_DE/raw_unet256_test_aoi_David1_DE00059.tfrecord.gz is different from target path: /tmp/tmp_opaiqej/f2f0eff9-8a1a-4ad3-9103-eeb9f2aad740/raw_unet256_test_aoi_David1_DE00059.tfrecord.gz\n",
            "359/600 [================>.............] - ETA: 33sDownloaded path: /tmp/tmp_opaiqej/f2f0eff9-8a1a-4ad3-9103-eeb9f2aad740/data/predict/test_aoi_David1_DE/raw_unet256_test_aoi_David1_DE00060.tfrecord.gz is different from target path: /tmp/tmp_opaiqej/f2f0eff9-8a1a-4ad3-9103-eeb9f2aad740/raw_unet256_test_aoi_David1_DE00060.tfrecord.gz\n",
            "365/600 [=================>............] - ETA: 32sDownloaded path: /tmp/tmp_opaiqej/f2f0eff9-8a1a-4ad3-9103-eeb9f2aad740/data/predict/test_aoi_David1_DE/raw_unet256_test_aoi_David1_DE00061.tfrecord.gz is different from target path: /tmp/tmp_opaiqej/f2f0eff9-8a1a-4ad3-9103-eeb9f2aad740/raw_unet256_test_aoi_David1_DE00061.tfrecord.gz\n",
            "372/600 [=================>............] - ETA: 31sDownloaded path: /tmp/tmp_opaiqej/f2f0eff9-8a1a-4ad3-9103-eeb9f2aad740/data/predict/test_aoi_David1_DE/raw_unet256_test_aoi_David1_DE00062.tfrecord.gz is different from target path: /tmp/tmp_opaiqej/f2f0eff9-8a1a-4ad3-9103-eeb9f2aad740/raw_unet256_test_aoi_David1_DE00062.tfrecord.gz\n",
            "377/600 [=================>............] - ETA: 30sDownloaded path: /tmp/tmp_opaiqej/f2f0eff9-8a1a-4ad3-9103-eeb9f2aad740/data/predict/test_aoi_David1_DE/raw_unet256_test_aoi_David1_DE00063.tfrecord.gz is different from target path: /tmp/tmp_opaiqej/f2f0eff9-8a1a-4ad3-9103-eeb9f2aad740/raw_unet256_test_aoi_David1_DE00063.tfrecord.gz\n",
            "383/600 [==================>...........] - ETA: 29sDownloaded path: /tmp/tmp_opaiqej/f2f0eff9-8a1a-4ad3-9103-eeb9f2aad740/data/predict/test_aoi_David1_DE/raw_unet256_test_aoi_David1_DE00064.tfrecord.gz is different from target path: /tmp/tmp_opaiqej/f2f0eff9-8a1a-4ad3-9103-eeb9f2aad740/raw_unet256_test_aoi_David1_DE00064.tfrecord.gz\n",
            "389/600 [==================>...........] - ETA: 28sDownloaded path: /tmp/tmp_opaiqej/f2f0eff9-8a1a-4ad3-9103-eeb9f2aad740/data/predict/test_aoi_David1_DE/raw_unet256_test_aoi_David1_DE00065.tfrecord.gz is different from target path: /tmp/tmp_opaiqej/f2f0eff9-8a1a-4ad3-9103-eeb9f2aad740/raw_unet256_test_aoi_David1_DE00065.tfrecord.gz\n",
            "396/600 [==================>...........] - ETA: 27sDownloaded path: /tmp/tmp_opaiqej/f2f0eff9-8a1a-4ad3-9103-eeb9f2aad740/data/predict/test_aoi_David1_DE/raw_unet256_test_aoi_David1_DE00066.tfrecord.gz is different from target path: /tmp/tmp_opaiqej/f2f0eff9-8a1a-4ad3-9103-eeb9f2aad740/raw_unet256_test_aoi_David1_DE00066.tfrecord.gz\n",
            "402/600 [===================>..........] - ETA: 26sDownloaded path: /tmp/tmp_opaiqej/f2f0eff9-8a1a-4ad3-9103-eeb9f2aad740/data/predict/test_aoi_David1_DE/raw_unet256_test_aoi_David1_DE00067.tfrecord.gz is different from target path: /tmp/tmp_opaiqej/f2f0eff9-8a1a-4ad3-9103-eeb9f2aad740/raw_unet256_test_aoi_David1_DE00067.tfrecord.gz\n",
            "408/600 [===================>..........] - ETA: 25sDownloaded path: /tmp/tmp_opaiqej/f2f0eff9-8a1a-4ad3-9103-eeb9f2aad740/data/predict/test_aoi_David1_DE/raw_unet256_test_aoi_David1_DE00068.tfrecord.gz is different from target path: /tmp/tmp_opaiqej/f2f0eff9-8a1a-4ad3-9103-eeb9f2aad740/raw_unet256_test_aoi_David1_DE00068.tfrecord.gz\n",
            "413/600 [===================>..........] - ETA: 24sDownloaded path: /tmp/tmp_opaiqej/f2f0eff9-8a1a-4ad3-9103-eeb9f2aad740/data/predict/test_aoi_David1_DE/raw_unet256_test_aoi_David1_DE00069.tfrecord.gz is different from target path: /tmp/tmp_opaiqej/f2f0eff9-8a1a-4ad3-9103-eeb9f2aad740/raw_unet256_test_aoi_David1_DE00069.tfrecord.gz\n",
            "420/600 [====================>.........] - ETA: 23sDownloaded path: /tmp/tmp_opaiqej/f2f0eff9-8a1a-4ad3-9103-eeb9f2aad740/data/predict/test_aoi_David1_DE/raw_unet256_test_aoi_David1_DE00070.tfrecord.gz is different from target path: /tmp/tmp_opaiqej/f2f0eff9-8a1a-4ad3-9103-eeb9f2aad740/raw_unet256_test_aoi_David1_DE00070.tfrecord.gz\n",
            "426/600 [====================>.........] - ETA: 22sDownloaded path: /tmp/tmp_opaiqej/f2f0eff9-8a1a-4ad3-9103-eeb9f2aad740/data/predict/test_aoi_David1_DE/raw_unet256_test_aoi_David1_DE00071.tfrecord.gz is different from target path: /tmp/tmp_opaiqej/f2f0eff9-8a1a-4ad3-9103-eeb9f2aad740/raw_unet256_test_aoi_David1_DE00071.tfrecord.gz\n",
            "431/600 [====================>.........] - ETA: 21sDownloaded path: /tmp/tmp_opaiqej/f2f0eff9-8a1a-4ad3-9103-eeb9f2aad740/data/predict/test_aoi_David1_DE/raw_unet256_test_aoi_David1_DE00072.tfrecord.gz is different from target path: /tmp/tmp_opaiqej/f2f0eff9-8a1a-4ad3-9103-eeb9f2aad740/raw_unet256_test_aoi_David1_DE00072.tfrecord.gz\n",
            "437/600 [====================>.........] - ETA: 20sDownloaded path: /tmp/tmp_opaiqej/f2f0eff9-8a1a-4ad3-9103-eeb9f2aad740/data/predict/test_aoi_David1_DE/raw_unet256_test_aoi_David1_DE00073.tfrecord.gz is different from target path: /tmp/tmp_opaiqej/f2f0eff9-8a1a-4ad3-9103-eeb9f2aad740/raw_unet256_test_aoi_David1_DE00073.tfrecord.gz\n",
            "444/600 [=====================>........] - ETA: 19sDownloaded path: /tmp/tmp_opaiqej/f2f0eff9-8a1a-4ad3-9103-eeb9f2aad740/data/predict/test_aoi_David1_DE/raw_unet256_test_aoi_David1_DE00074.tfrecord.gz is different from target path: /tmp/tmp_opaiqej/f2f0eff9-8a1a-4ad3-9103-eeb9f2aad740/raw_unet256_test_aoi_David1_DE00074.tfrecord.gz\n",
            "450/600 [=====================>........] - ETA: 18sDownloaded path: /tmp/tmp_opaiqej/f2f0eff9-8a1a-4ad3-9103-eeb9f2aad740/data/predict/test_aoi_David1_DE/raw_unet256_test_aoi_David1_DE00075.tfrecord.gz is different from target path: /tmp/tmp_opaiqej/f2f0eff9-8a1a-4ad3-9103-eeb9f2aad740/raw_unet256_test_aoi_David1_DE00075.tfrecord.gz\n",
            "455/600 [=====================>........] - ETA: 18sDownloaded path: /tmp/tmp_opaiqej/f2f0eff9-8a1a-4ad3-9103-eeb9f2aad740/data/predict/test_aoi_David1_DE/raw_unet256_test_aoi_David1_DE00076.tfrecord.gz is different from target path: /tmp/tmp_opaiqej/f2f0eff9-8a1a-4ad3-9103-eeb9f2aad740/raw_unet256_test_aoi_David1_DE00076.tfrecord.gz\n",
            "462/600 [======================>.......] - ETA: 17sDownloaded path: /tmp/tmp_opaiqej/f2f0eff9-8a1a-4ad3-9103-eeb9f2aad740/data/predict/test_aoi_David1_DE/raw_unet256_test_aoi_David1_DE00077.tfrecord.gz is different from target path: /tmp/tmp_opaiqej/f2f0eff9-8a1a-4ad3-9103-eeb9f2aad740/raw_unet256_test_aoi_David1_DE00077.tfrecord.gz\n",
            "468/600 [======================>.......] - ETA: 16sDownloaded path: /tmp/tmp_opaiqej/f2f0eff9-8a1a-4ad3-9103-eeb9f2aad740/data/predict/test_aoi_David1_DE/raw_unet256_test_aoi_David1_DE00078.tfrecord.gz is different from target path: /tmp/tmp_opaiqej/f2f0eff9-8a1a-4ad3-9103-eeb9f2aad740/raw_unet256_test_aoi_David1_DE00078.tfrecord.gz\n",
            "474/600 [======================>.......] - ETA: 15sDownloaded path: /tmp/tmp_opaiqej/f2f0eff9-8a1a-4ad3-9103-eeb9f2aad740/data/predict/test_aoi_David1_DE/raw_unet256_test_aoi_David1_DE00079.tfrecord.gz is different from target path: /tmp/tmp_opaiqej/f2f0eff9-8a1a-4ad3-9103-eeb9f2aad740/raw_unet256_test_aoi_David1_DE00079.tfrecord.gz\n",
            "479/600 [======================>.......] - ETA: 14sDownloaded path: /tmp/tmp_opaiqej/f2f0eff9-8a1a-4ad3-9103-eeb9f2aad740/data/predict/test_aoi_David1_DE/raw_unet256_test_aoi_David1_DE00080.tfrecord.gz is different from target path: /tmp/tmp_opaiqej/f2f0eff9-8a1a-4ad3-9103-eeb9f2aad740/raw_unet256_test_aoi_David1_DE00080.tfrecord.gz\n",
            "486/600 [=======================>......] - ETA: 13sDownloaded path: /tmp/tmp_opaiqej/f2f0eff9-8a1a-4ad3-9103-eeb9f2aad740/data/predict/test_aoi_David1_DE/raw_unet256_test_aoi_David1_DE00081.tfrecord.gz is different from target path: /tmp/tmp_opaiqej/f2f0eff9-8a1a-4ad3-9103-eeb9f2aad740/raw_unet256_test_aoi_David1_DE00081.tfrecord.gz\n",
            "492/600 [=======================>......] - ETA: 13sDownloaded path: /tmp/tmp_opaiqej/f2f0eff9-8a1a-4ad3-9103-eeb9f2aad740/data/predict/test_aoi_David1_DE/raw_unet256_test_aoi_David1_DE00082.tfrecord.gz is different from target path: /tmp/tmp_opaiqej/f2f0eff9-8a1a-4ad3-9103-eeb9f2aad740/raw_unet256_test_aoi_David1_DE00082.tfrecord.gz\n",
            "498/600 [=======================>......] - ETA: 12sDownloaded path: /tmp/tmp_opaiqej/f2f0eff9-8a1a-4ad3-9103-eeb9f2aad740/data/predict/test_aoi_David1_DE/raw_unet256_test_aoi_David1_DE00083.tfrecord.gz is different from target path: /tmp/tmp_opaiqej/f2f0eff9-8a1a-4ad3-9103-eeb9f2aad740/raw_unet256_test_aoi_David1_DE00083.tfrecord.gz\n",
            "504/600 [========================>.....] - ETA: 11sDownloaded path: /tmp/tmp_opaiqej/f2f0eff9-8a1a-4ad3-9103-eeb9f2aad740/data/predict/test_aoi_David1_DE/raw_unet256_test_aoi_David1_DE00084.tfrecord.gz is different from target path: /tmp/tmp_opaiqej/f2f0eff9-8a1a-4ad3-9103-eeb9f2aad740/raw_unet256_test_aoi_David1_DE00084.tfrecord.gz\n",
            "509/600 [========================>.....] - ETA: 10sDownloaded path: /tmp/tmp_opaiqej/f2f0eff9-8a1a-4ad3-9103-eeb9f2aad740/data/predict/test_aoi_David1_DE/raw_unet256_test_aoi_David1_DE00085.tfrecord.gz is different from target path: /tmp/tmp_opaiqej/f2f0eff9-8a1a-4ad3-9103-eeb9f2aad740/raw_unet256_test_aoi_David1_DE00085.tfrecord.gz\n",
            "516/600 [========================>.....] - ETA: 10sDownloaded path: /tmp/tmp_opaiqej/f2f0eff9-8a1a-4ad3-9103-eeb9f2aad740/data/predict/test_aoi_David1_DE/raw_unet256_test_aoi_David1_DE00086.tfrecord.gz is different from target path: /tmp/tmp_opaiqej/f2f0eff9-8a1a-4ad3-9103-eeb9f2aad740/raw_unet256_test_aoi_David1_DE00086.tfrecord.gz\n",
            "521/600 [=========================>....] - ETA: 9sDownloaded path: /tmp/tmp_opaiqej/f2f0eff9-8a1a-4ad3-9103-eeb9f2aad740/data/predict/test_aoi_David1_DE/raw_unet256_test_aoi_David1_DE00087.tfrecord.gz is different from target path: /tmp/tmp_opaiqej/f2f0eff9-8a1a-4ad3-9103-eeb9f2aad740/raw_unet256_test_aoi_David1_DE00087.tfrecord.gz\n",
            "527/600 [=========================>....] - ETA: 8sDownloaded path: /tmp/tmp_opaiqej/f2f0eff9-8a1a-4ad3-9103-eeb9f2aad740/data/predict/test_aoi_David1_DE/raw_unet256_test_aoi_David1_DE00088.tfrecord.gz is different from target path: /tmp/tmp_opaiqej/f2f0eff9-8a1a-4ad3-9103-eeb9f2aad740/raw_unet256_test_aoi_David1_DE00088.tfrecord.gz\n",
            "534/600 [=========================>....] - ETA: 7sDownloaded path: /tmp/tmp_opaiqej/f2f0eff9-8a1a-4ad3-9103-eeb9f2aad740/data/predict/test_aoi_David1_DE/raw_unet256_test_aoi_David1_DE00089.tfrecord.gz is different from target path: /tmp/tmp_opaiqej/f2f0eff9-8a1a-4ad3-9103-eeb9f2aad740/raw_unet256_test_aoi_David1_DE00089.tfrecord.gz\n",
            "539/600 [=========================>....] - ETA: 7sDownloaded path: /tmp/tmp_opaiqej/f2f0eff9-8a1a-4ad3-9103-eeb9f2aad740/data/predict/test_aoi_David1_DE/raw_unet256_test_aoi_David1_DE00090.tfrecord.gz is different from target path: /tmp/tmp_opaiqej/f2f0eff9-8a1a-4ad3-9103-eeb9f2aad740/raw_unet256_test_aoi_David1_DE00090.tfrecord.gz\n",
            "545/600 [==========================>...] - ETA: 6sDownloaded path: /tmp/tmp_opaiqej/f2f0eff9-8a1a-4ad3-9103-eeb9f2aad740/data/predict/test_aoi_David1_DE/raw_unet256_test_aoi_David1_DE00091.tfrecord.gz is different from target path: /tmp/tmp_opaiqej/f2f0eff9-8a1a-4ad3-9103-eeb9f2aad740/raw_unet256_test_aoi_David1_DE00091.tfrecord.gz\n",
            "551/600 [==========================>...] - ETA: 5sDownloaded path: /tmp/tmp_opaiqej/f2f0eff9-8a1a-4ad3-9103-eeb9f2aad740/data/predict/test_aoi_David1_DE/raw_unet256_test_aoi_David1_DE00092.tfrecord.gz is different from target path: /tmp/tmp_opaiqej/f2f0eff9-8a1a-4ad3-9103-eeb9f2aad740/raw_unet256_test_aoi_David1_DE00092.tfrecord.gz\n",
            "557/600 [==========================>...] - ETA: 4sDownloaded path: /tmp/tmp_opaiqej/f2f0eff9-8a1a-4ad3-9103-eeb9f2aad740/data/predict/test_aoi_David1_DE/raw_unet256_test_aoi_David1_DE00093.tfrecord.gz is different from target path: /tmp/tmp_opaiqej/f2f0eff9-8a1a-4ad3-9103-eeb9f2aad740/raw_unet256_test_aoi_David1_DE00093.tfrecord.gz\n",
            "563/600 [===========================>..] - ETA: 4sDownloaded path: /tmp/tmp_opaiqej/f2f0eff9-8a1a-4ad3-9103-eeb9f2aad740/data/predict/test_aoi_David1_DE/raw_unet256_test_aoi_David1_DE00094.tfrecord.gz is different from target path: /tmp/tmp_opaiqej/f2f0eff9-8a1a-4ad3-9103-eeb9f2aad740/raw_unet256_test_aoi_David1_DE00094.tfrecord.gz\n",
            "569/600 [===========================>..] - ETA: 3sDownloaded path: /tmp/tmp_opaiqej/f2f0eff9-8a1a-4ad3-9103-eeb9f2aad740/data/predict/test_aoi_David1_DE/raw_unet256_test_aoi_David1_DE00095.tfrecord.gz is different from target path: /tmp/tmp_opaiqej/f2f0eff9-8a1a-4ad3-9103-eeb9f2aad740/raw_unet256_test_aoi_David1_DE00095.tfrecord.gz\n",
            "575/600 [===========================>..] - ETA: 2sDownloaded path: /tmp/tmp_opaiqej/f2f0eff9-8a1a-4ad3-9103-eeb9f2aad740/data/predict/test_aoi_David1_DE/raw_unet256_test_aoi_David1_DE00096.tfrecord.gz is different from target path: /tmp/tmp_opaiqej/f2f0eff9-8a1a-4ad3-9103-eeb9f2aad740/raw_unet256_test_aoi_David1_DE00096.tfrecord.gz\n",
            "582/600 [============================>.] - ETA: 2sDownloaded path: /tmp/tmp_opaiqej/f2f0eff9-8a1a-4ad3-9103-eeb9f2aad740/data/predict/test_aoi_David1_DE/raw_unet256_test_aoi_David1_DE00097.tfrecord.gz is different from target path: /tmp/tmp_opaiqej/f2f0eff9-8a1a-4ad3-9103-eeb9f2aad740/raw_unet256_test_aoi_David1_DE00097.tfrecord.gz\n",
            "587/600 [============================>.] - ETA: 1sDownloaded path: /tmp/tmp_opaiqej/f2f0eff9-8a1a-4ad3-9103-eeb9f2aad740/data/predict/test_aoi_David1_DE/raw_unet256_test_aoi_David1_DE00098.tfrecord.gz is different from target path: /tmp/tmp_opaiqej/f2f0eff9-8a1a-4ad3-9103-eeb9f2aad740/raw_unet256_test_aoi_David1_DE00098.tfrecord.gz\n",
            "594/600 [============================>.] - ETA: 0sDownloaded path: /tmp/tmp_opaiqej/f2f0eff9-8a1a-4ad3-9103-eeb9f2aad740/data/predict/test_aoi_David1_DE/raw_unet256_test_aoi_David1_DE00099.tfrecord.gz is different from target path: /tmp/tmp_opaiqej/f2f0eff9-8a1a-4ad3-9103-eeb9f2aad740/raw_unet256_test_aoi_David1_DE00099.tfrecord.gz\n",
            "600/600 [==============================] - 68s 113ms/step\b\b\b\b\b\b\b\b\b\b\b\b\b\b\b\b\b\b\b\b\b\b\b\b\b\b\b\b\b\b\b\b\b\b\b\b\b\b\b\b\b\b\b\n",
            "Writing patch 1...\n",
            "Writing patch 2...\n",
            "Writing patch 3...\n",
            "Writing patch 4...\n",
            "Writing patch 5...\n",
            "Writing patch 6...\n",
            "Writing patch 7...\n",
            "Writing patch 8...\n",
            "Writing patch 9...\n",
            "Writing patch 10...\n",
            "Writing patch 11...\n",
            "Writing patch 12...\n",
            "Writing patch 13...\n",
            "Writing patch 14...\n",
            "Writing patch 15...\n",
            "Writing patch 16...\n",
            "Writing patch 17...\n",
            "Writing patch 18...\n",
            "Writing patch 19...\n",
            "Writing patch 20...\n",
            "Writing patch 21...\n",
            "Writing patch 22...\n",
            "Writing patch 23...\n",
            "Writing patch 24...\n",
            "Writing patch 25...\n",
            "Writing patch 26...\n",
            "Writing patch 27...\n",
            "Writing patch 28...\n",
            "Writing patch 29...\n",
            "Writing patch 30...\n",
            "Writing patch 31...\n",
            "Writing patch 32...\n",
            "Writing patch 33...\n",
            "Writing patch 34...\n",
            "Writing patch 35...\n",
            "Writing patch 36...\n",
            "Writing patch 37...\n",
            "Writing patch 38...\n",
            "Writing patch 39...\n",
            "Writing patch 40...\n",
            "Writing patch 41...\n",
            "Writing patch 42...\n",
            "Writing patch 43...\n",
            "Writing patch 44...\n",
            "Writing patch 45...\n",
            "Writing patch 46...\n",
            "Writing patch 47...\n",
            "Writing patch 48...\n",
            "Writing patch 49...\n",
            "Writing patch 50...\n",
            "Writing patch 51...\n",
            "Writing patch 52...\n",
            "Writing patch 53...\n",
            "Writing patch 54...\n",
            "Writing patch 55...\n",
            "Writing patch 56...\n",
            "Writing patch 57...\n",
            "Writing patch 58...\n",
            "Writing patch 59...\n",
            "Writing patch 60...\n",
            "Writing patch 61...\n",
            "Writing patch 62...\n",
            "Writing patch 63...\n",
            "Writing patch 64...\n",
            "Writing patch 65...\n",
            "Writing patch 66...\n",
            "Writing patch 67...\n",
            "Writing patch 68...\n",
            "Writing patch 69...\n",
            "Writing patch 70...\n",
            "Writing patch 71...\n",
            "Writing patch 72...\n",
            "Writing patch 73...\n",
            "Writing patch 74...\n",
            "Writing patch 75...\n",
            "Writing patch 76...\n",
            "Writing patch 77...\n",
            "Writing patch 78...\n",
            "Writing patch 79...\n",
            "Writing patch 80...\n",
            "Writing patch 81...\n",
            "Writing patch 82...\n",
            "Writing patch 83...\n",
            "Writing patch 84...\n",
            "Writing patch 85...\n",
            "Writing patch 86...\n",
            "Writing patch 87...\n",
            "Writing patch 88...\n",
            "Writing patch 89...\n",
            "Writing patch 90...\n",
            "Writing patch 91...\n",
            "Writing patch 92...\n",
            "Writing patch 93...\n",
            "Writing patch 94...\n",
            "Writing patch 95...\n",
            "Writing patch 96...\n",
            "Writing patch 97...\n",
            "Writing patch 98...\n",
            "Writing patch 99...\n",
            "Writing patch 100...\n",
            "Writing patch 101...\n",
            "Writing patch 102...\n",
            "Writing patch 103...\n",
            "Writing patch 104...\n",
            "Writing patch 105...\n",
            "Writing patch 106...\n",
            "Writing patch 107...\n",
            "Writing patch 108...\n",
            "Writing patch 109...\n",
            "Writing patch 110...\n",
            "Writing patch 111...\n",
            "Writing patch 112...\n",
            "Writing patch 113...\n",
            "Writing patch 114...\n",
            "Writing patch 115...\n",
            "Writing patch 116...\n",
            "Writing patch 117...\n",
            "Writing patch 118...\n",
            "Writing patch 119...\n",
            "Writing patch 120...\n",
            "Writing patch 121...\n",
            "Writing patch 122...\n",
            "Writing patch 123...\n",
            "Writing patch 124...\n",
            "Writing patch 125...\n",
            "Writing patch 126...\n",
            "Writing patch 127...\n",
            "Writing patch 128...\n",
            "Writing patch 129...\n",
            "Writing patch 130...\n",
            "Writing patch 131...\n",
            "Writing patch 132...\n",
            "Writing patch 133...\n",
            "Writing patch 134...\n",
            "Writing patch 135...\n",
            "Writing patch 136...\n",
            "Writing patch 137...\n",
            "Writing patch 138...\n",
            "Writing patch 139...\n",
            "Writing patch 140...\n",
            "Writing patch 141...\n",
            "Writing patch 142...\n",
            "Writing patch 143...\n",
            "Writing patch 144...\n",
            "Writing patch 145...\n",
            "Writing patch 146...\n",
            "Writing patch 147...\n",
            "Writing patch 148...\n",
            "Writing patch 149...\n",
            "Writing patch 150...\n",
            "Writing patch 151...\n",
            "Writing patch 152...\n",
            "Writing patch 153...\n",
            "Writing patch 154...\n",
            "Writing patch 155...\n",
            "Writing patch 156...\n",
            "Writing patch 157...\n",
            "Writing patch 158...\n",
            "Writing patch 159...\n",
            "Writing patch 160...\n",
            "Writing patch 161...\n",
            "Writing patch 162...\n",
            "Writing patch 163...\n",
            "Writing patch 164...\n",
            "Writing patch 165...\n",
            "Writing patch 166...\n",
            "Writing patch 167...\n",
            "Writing patch 168...\n",
            "Writing patch 169...\n",
            "Writing patch 170...\n",
            "Writing patch 171...\n",
            "Writing patch 172...\n",
            "Writing patch 173...\n",
            "Writing patch 174...\n",
            "Writing patch 175...\n",
            "Writing patch 176...\n",
            "Writing patch 177...\n",
            "Writing patch 178...\n",
            "Writing patch 179...\n",
            "Writing patch 180...\n",
            "Writing patch 181...\n",
            "Writing patch 182...\n",
            "Writing patch 183...\n",
            "Writing patch 184...\n",
            "Writing patch 185...\n",
            "Writing patch 186...\n",
            "Writing patch 187...\n",
            "Writing patch 188...\n",
            "Writing patch 189...\n",
            "Writing patch 190...\n",
            "Writing patch 191...\n",
            "Writing patch 192...\n",
            "Writing patch 193...\n",
            "Writing patch 194...\n",
            "Writing patch 195...\n",
            "Writing patch 196...\n",
            "Writing patch 197...\n",
            "Writing patch 198...\n",
            "Writing patch 199...\n",
            "Writing patch 200...\n",
            "Writing patch 201...\n",
            "Writing patch 202...\n",
            "Writing patch 203...\n",
            "Writing patch 204...\n",
            "Writing patch 205...\n",
            "Writing patch 206...\n",
            "Writing patch 207...\n",
            "Writing patch 208...\n",
            "Writing patch 209...\n",
            "Writing patch 210...\n",
            "Writing patch 211...\n",
            "Writing patch 212...\n",
            "Writing patch 213...\n",
            "Writing patch 214...\n",
            "Writing patch 215...\n",
            "Writing patch 216...\n",
            "Writing patch 217...\n",
            "Writing patch 218...\n",
            "Writing patch 219...\n",
            "Writing patch 220...\n",
            "Writing patch 221...\n",
            "Writing patch 222...\n",
            "Writing patch 223...\n",
            "Writing patch 224...\n",
            "Writing patch 225...\n",
            "Writing patch 226...\n",
            "Writing patch 227...\n",
            "Writing patch 228...\n",
            "Writing patch 229...\n",
            "Writing patch 230...\n",
            "Writing patch 231...\n",
            "Writing patch 232...\n",
            "Writing patch 233...\n",
            "Writing patch 234...\n",
            "Writing patch 235...\n",
            "Writing patch 236...\n",
            "Writing patch 237...\n",
            "Writing patch 238...\n",
            "Writing patch 239...\n",
            "Writing patch 240...\n",
            "Writing patch 241...\n",
            "Writing patch 242...\n",
            "Writing patch 243...\n",
            "Writing patch 244...\n",
            "Writing patch 245...\n",
            "Writing patch 246...\n",
            "Writing patch 247...\n",
            "Writing patch 248...\n",
            "Writing patch 249...\n",
            "Writing patch 250...\n",
            "Writing patch 251...\n",
            "Writing patch 252...\n",
            "Writing patch 253...\n",
            "Writing patch 254...\n",
            "Writing patch 255...\n",
            "Writing patch 256...\n",
            "Writing patch 257...\n",
            "Writing patch 258...\n",
            "Writing patch 259...\n",
            "Writing patch 260...\n",
            "Writing patch 261...\n",
            "Writing patch 262...\n",
            "Writing patch 263...\n",
            "Writing patch 264...\n",
            "Writing patch 265...\n",
            "Writing patch 266...\n",
            "Writing patch 267...\n",
            "Writing patch 268...\n",
            "Writing patch 269...\n",
            "Writing patch 270...\n",
            "Writing patch 271...\n",
            "Writing patch 272...\n",
            "Writing patch 273...\n",
            "Writing patch 274...\n",
            "Writing patch 275...\n",
            "Writing patch 276...\n",
            "Writing patch 277...\n",
            "Writing patch 278...\n",
            "Writing patch 279...\n",
            "Writing patch 280...\n",
            "Writing patch 281...\n",
            "Writing patch 282...\n",
            "Writing patch 283...\n",
            "Writing patch 284...\n",
            "Writing patch 285...\n",
            "Writing patch 286...\n",
            "Writing patch 287...\n",
            "Writing patch 288...\n",
            "Writing patch 289...\n",
            "Writing patch 290...\n",
            "Writing patch 291...\n",
            "Writing patch 292...\n",
            "Writing patch 293...\n",
            "Writing patch 294...\n",
            "Writing patch 295...\n",
            "Writing patch 296...\n",
            "Writing patch 297...\n",
            "Writing patch 298...\n",
            "Writing patch 299...\n",
            "Writing patch 300...\n",
            "Writing patch 301...\n",
            "Writing patch 302...\n",
            "Writing patch 303...\n",
            "Writing patch 304...\n",
            "Writing patch 305...\n",
            "Writing patch 306...\n",
            "Writing patch 307...\n",
            "Writing patch 308...\n",
            "Writing patch 309...\n",
            "Writing patch 310...\n",
            "Writing patch 311...\n",
            "Writing patch 312...\n",
            "Writing patch 313...\n",
            "Writing patch 314...\n",
            "Writing patch 315...\n",
            "Writing patch 316...\n",
            "Writing patch 317...\n",
            "Writing patch 318...\n",
            "Writing patch 319...\n",
            "Writing patch 320...\n",
            "Writing patch 321...\n",
            "Writing patch 322...\n",
            "Writing patch 323...\n",
            "Writing patch 324...\n",
            "Writing patch 325...\n",
            "Writing patch 326...\n",
            "Writing patch 327...\n",
            "Writing patch 328...\n",
            "Writing patch 329...\n",
            "Writing patch 330...\n",
            "Writing patch 331...\n",
            "Writing patch 332...\n",
            "Writing patch 333...\n",
            "Writing patch 334...\n",
            "Writing patch 335...\n",
            "Writing patch 336...\n",
            "Writing patch 337...\n",
            "Writing patch 338...\n",
            "Writing patch 339...\n",
            "Writing patch 340...\n",
            "Writing patch 341...\n",
            "Writing patch 342...\n",
            "Writing patch 343...\n",
            "Writing patch 344...\n",
            "Writing patch 345...\n",
            "Writing patch 346...\n",
            "Writing patch 347...\n",
            "Writing patch 348...\n",
            "Writing patch 349...\n",
            "Writing patch 350...\n",
            "Writing patch 351...\n",
            "Writing patch 352...\n",
            "Writing patch 353...\n",
            "Writing patch 354...\n",
            "Writing patch 355...\n",
            "Writing patch 356...\n",
            "Writing patch 357...\n",
            "Writing patch 358...\n",
            "Writing patch 359...\n",
            "Writing patch 360...\n",
            "Writing patch 361...\n",
            "Writing patch 362...\n",
            "Writing patch 363...\n",
            "Writing patch 364...\n",
            "Writing patch 365...\n",
            "Writing patch 366...\n",
            "Writing patch 367...\n",
            "Writing patch 368...\n",
            "Writing patch 369...\n",
            "Writing patch 370...\n",
            "Writing patch 371...\n",
            "Writing patch 372...\n",
            "Writing patch 373...\n",
            "Writing patch 374...\n",
            "Writing patch 375...\n",
            "Writing patch 376...\n",
            "Writing patch 377...\n",
            "Writing patch 378...\n",
            "Writing patch 379...\n",
            "Writing patch 380...\n",
            "Writing patch 381...\n",
            "Writing patch 382...\n",
            "Writing patch 383...\n",
            "Writing patch 384...\n",
            "Writing patch 385...\n",
            "Writing patch 386...\n",
            "Writing patch 387...\n",
            "Writing patch 388...\n",
            "Writing patch 389...\n",
            "Writing patch 390...\n",
            "Writing patch 391...\n",
            "Writing patch 392...\n",
            "Writing patch 393...\n",
            "Writing patch 394...\n",
            "Writing patch 395...\n",
            "Writing patch 396...\n",
            "Writing patch 397...\n",
            "Writing patch 398...\n",
            "Writing patch 399...\n",
            "Writing patch 400...\n",
            "Writing patch 401...\n",
            "Writing patch 402...\n",
            "Writing patch 403...\n",
            "Writing patch 404...\n",
            "Writing patch 405...\n",
            "Writing patch 406...\n",
            "Writing patch 407...\n",
            "Writing patch 408...\n",
            "Writing patch 409...\n",
            "Writing patch 410...\n",
            "Writing patch 411...\n",
            "Writing patch 412...\n",
            "Writing patch 413...\n",
            "Writing patch 414...\n",
            "Writing patch 415...\n",
            "Writing patch 416...\n",
            "Writing patch 417...\n",
            "Writing patch 418...\n",
            "Writing patch 419...\n",
            "Writing patch 420...\n",
            "Writing patch 421...\n",
            "Writing patch 422...\n",
            "Writing patch 423...\n",
            "Writing patch 424...\n",
            "Writing patch 425...\n",
            "Writing patch 426...\n",
            "Writing patch 427...\n",
            "Writing patch 428...\n",
            "Writing patch 429...\n",
            "Writing patch 430...\n",
            "Writing patch 431...\n",
            "Writing patch 432...\n",
            "Writing patch 433...\n",
            "Writing patch 434...\n",
            "Writing patch 435...\n",
            "Writing patch 436...\n",
            "Writing patch 437...\n",
            "Writing patch 438...\n",
            "Writing patch 439...\n",
            "Writing patch 440...\n",
            "Writing patch 441...\n",
            "Writing patch 442...\n",
            "Writing patch 443...\n",
            "Writing patch 444...\n",
            "Writing patch 445...\n",
            "Writing patch 446...\n",
            "Writing patch 447...\n",
            "Writing patch 448...\n",
            "Writing patch 449...\n",
            "Writing patch 450...\n",
            "Writing patch 451...\n",
            "Writing patch 452...\n",
            "Writing patch 453...\n",
            "Writing patch 454...\n",
            "Writing patch 455...\n",
            "Writing patch 456...\n",
            "Writing patch 457...\n",
            "Writing patch 458...\n",
            "Writing patch 459...\n",
            "Writing patch 460...\n",
            "Writing patch 461...\n",
            "Writing patch 462...\n",
            "Writing patch 463...\n",
            "Writing patch 464...\n",
            "Writing patch 465...\n",
            "Writing patch 466...\n",
            "Writing patch 467...\n",
            "Writing patch 468...\n",
            "Writing patch 469...\n",
            "Writing patch 470...\n",
            "Writing patch 471...\n",
            "Writing patch 472...\n",
            "Writing patch 473...\n",
            "Writing patch 474...\n",
            "Writing patch 475...\n",
            "Writing patch 476...\n",
            "Writing patch 477...\n",
            "Writing patch 478...\n",
            "Writing patch 479...\n",
            "Writing patch 480...\n",
            "Writing patch 481...\n",
            "Writing patch 482...\n",
            "Writing patch 483...\n",
            "Writing patch 484...\n",
            "Writing patch 485...\n",
            "Writing patch 486...\n",
            "Writing patch 487...\n",
            "Writing patch 488...\n",
            "Writing patch 489...\n",
            "Writing patch 490...\n",
            "Writing patch 491...\n",
            "Writing patch 492...\n",
            "Writing patch 493...\n",
            "Writing patch 494...\n",
            "Writing patch 495...\n",
            "Writing patch 496...\n",
            "Writing patch 497...\n",
            "Writing patch 498...\n",
            "Writing patch 499...\n",
            "Writing patch 500...\n",
            "Writing patch 501...\n",
            "Writing patch 502...\n",
            "Writing patch 503...\n",
            "Writing patch 504...\n",
            "Writing patch 505...\n",
            "Writing patch 506...\n",
            "Writing patch 507...\n",
            "Writing patch 508...\n",
            "Writing patch 509...\n",
            "Writing patch 510...\n",
            "Writing patch 511...\n",
            "Writing patch 512...\n",
            "Writing patch 513...\n",
            "Writing patch 514...\n",
            "Writing patch 515...\n",
            "Writing patch 516...\n",
            "Writing patch 517...\n",
            "Writing patch 518...\n",
            "Writing patch 519...\n",
            "Writing patch 520...\n",
            "Writing patch 521...\n",
            "Writing patch 522...\n",
            "Writing patch 523...\n",
            "Writing patch 524...\n",
            "Writing patch 525...\n",
            "Writing patch 526...\n",
            "Writing patch 527...\n",
            "Writing patch 528...\n",
            "Writing patch 529...\n",
            "Writing patch 530...\n",
            "Writing patch 531...\n",
            "Writing patch 532...\n",
            "Writing patch 533...\n",
            "Writing patch 534...\n",
            "Writing patch 535...\n",
            "Writing patch 536...\n",
            "Writing patch 537...\n",
            "Writing patch 538...\n",
            "Writing patch 539...\n",
            "Writing patch 540...\n",
            "Writing patch 541...\n",
            "Writing patch 542...\n",
            "Writing patch 543...\n",
            "Writing patch 544...\n",
            "Writing patch 545...\n",
            "Writing patch 546...\n",
            "Writing patch 547...\n",
            "Writing patch 548...\n",
            "Writing patch 549...\n",
            "Writing patch 550...\n",
            "Writing patch 551...\n",
            "Writing patch 552...\n",
            "Writing patch 553...\n",
            "Writing patch 554...\n",
            "Writing patch 555...\n",
            "Writing patch 556...\n",
            "Writing patch 557...\n",
            "Writing patch 558...\n",
            "Writing patch 559...\n",
            "Writing patch 560...\n",
            "Writing patch 561...\n",
            "Writing patch 562...\n",
            "Writing patch 563...\n",
            "Writing patch 564...\n",
            "Writing patch 565...\n",
            "Writing patch 566...\n",
            "Writing patch 567...\n",
            "Writing patch 568...\n",
            "Writing patch 569...\n",
            "Writing patch 570...\n",
            "Writing patch 571...\n",
            "Writing patch 572...\n",
            "Writing patch 573...\n",
            "Writing patch 574...\n",
            "Writing patch 575...\n",
            "Writing patch 576...\n",
            "Writing patch 577...\n",
            "Writing patch 578...\n",
            "Writing patch 579...\n",
            "Writing patch 580...\n",
            "Writing patch 581...\n",
            "Writing patch 582...\n",
            "Writing patch 583...\n",
            "Writing patch 584...\n",
            "Writing patch 585...\n",
            "Writing patch 586...\n",
            "Writing patch 587...\n",
            "Writing patch 588...\n",
            "Writing patch 589...\n",
            "Writing patch 590...\n",
            "Writing patch 591...\n",
            "Writing patch 592...\n",
            "Writing patch 593...\n",
            "Writing patch 594...\n",
            "Writing patch 595...\n",
            "Writing patch 596...\n",
            "Writing patch 597...\n",
            "Writing patch 598...\n",
            "Writing patch 599...\n",
            "Writing patch 600...\n"
          ]
        }
      ],
      "execution_count": 15,
      "metadata": {
        "collapsed": true,
        "jupyter": {
          "source_hidden": false,
          "outputs_hidden": false
        },
        "nteract": {
          "transient": {
            "deleting": false
          }
        },
        "gather": {
          "logged": 1626121008166
        }
      }
    },
    {
      "cell_type": "code",
      "source": [
        "# We can visualize the predictions here in the notebook\r\n",
        "from matplotlib import pyplot as plt\r\n",
        "from matplotlib import colors\r\n",
        "\r\n",
        "figure = plt.figure(figsize = (12,12))\r\n",
        "# cmap = colors.ListedColormap(['#5dc5f1', '#50a886', '#3d6e1d', '#80e144', '#bafb85', '#d4a13e', \"#e73522\", \"#9c9c9c\", \"#000000\", \"#706e22\", \"#e7e64b\", \"#fefc86\", '#ad36ed'])\r\n",
        "prob = preds[:, :, 0]\r\n",
        "# cls = out_image[:, :, 0]\r\n",
        "\r\n",
        "plt.imshow(prob)#, norm = colors.BoundaryNorm([1,2,3,4,5,6,7,8,9,10,11,12,13,14,15], cmap.N), cmap = cmap)"
      ],
      "outputs": [
        {
          "output_type": "execute_result",
          "execution_count": 16,
          "data": {
            "text/plain": "<matplotlib.image.AxesImage at 0x7f0f401d29b0>"
          },
          "metadata": {}
        },
        {
          "output_type": "display_data",
          "data": {
            "text/plain": "<Figure size 864x864 with 1 Axes>",
            "image/png": "[encoded data removed]"
          },
          "metadata": {
            "needs_background": "light"
          }
        }
      ],
      "execution_count": 16,
      "metadata": {
        "collapsed": true,
        "jupyter": {
          "source_hidden": false,
          "outputs_hidden": false
        },
        "nteract": {
          "transient": {
            "deleting": false
          }
        },
        "gather": {
          "logged": 1626121041858
        }
      }
    },
    {
      "cell_type": "code",
      "source": [
        "write_geotiff_prediction(prob, jsonFile[0], 'DE_test_basic')"
      ],
      "outputs": [],
      "execution_count": 20,
      "metadata": {
        "collapsed": true,
        "jupyter": {
          "source_hidden": false,
          "outputs_hidden": false
        },
        "nteract": {
          "transient": {
            "deleting": false
          }
        },
        "gather": {
          "logged": 1626121140793
        }
      }
    },
    {
      "cell_type": "markdown",
      "source": [
        "## Predict using submitted run"
      ],
      "metadata": {
        "nteract": {
          "transient": {
            "deleting": false
          }
        }
      }
    },
    {
      "cell_type": "code",
      "source": [
        "# create script run config\r\n",
        "# use the azure folder as our script folder\r\n",
        "source = 'Satellite_ComputerVision'\r\n",
        "util_folder = 'utils'\r\n",
        "script_folder = 'azure'\r\n",
        "script_file = 'predict_wetland.py'"
      ],
      "outputs": [],
      "execution_count": 81,
      "metadata": {
        "collapsed": true,
        "jupyter": {
          "source_hidden": false,
          "outputs_hidden": false
        },
        "nteract": {
          "transient": {
            "deleting": false
          }
        },
        "gather": {
          "logged": 1626877566545
        }
      }
    },
    {
      "cell_type": "code",
      "source": [
        "env = ws.environments['wetland-training']\r\n",
        "compute = ws.compute_targets['wetlandsGPU']\r\n",
        "experiment_name = 'wetland-unet-predict-2'\r\n",
        "exp = Experiment(workspace = ws, name = experiment_name) "
      ],
      "outputs": [],
      "execution_count": 86,
      "metadata": {
        "collapsed": true,
        "jupyter": {
          "source_hidden": false,
          "outputs_hidden": false
        },
        "nteract": {
          "transient": {
            "deleting": false
          }
        },
        "gather": {
          "logged": 1626877641522
        }
      }
    },
    {
      "cell_type": "code",
      "source": [
        "# define the command line arguments to our training sript\r\n",
        "mod = 'full'\r\n",
        "args = [\r\n",
        "    '--data_dir', test_dataset.as_mount(),\r\n",
        "    '--model_id', f'wetland-unet-{mod}',\r\n",
        "    '--aoi', aoi]"
      ],
      "outputs": [],
      "execution_count": 87,
      "metadata": {
        "collapsed": true,
        "jupyter": {
          "source_hidden": false,
          "outputs_hidden": false
        },
        "nteract": {
          "transient": {
            "deleting": false
          }
        },
        "gather": {
          "logged": 1626877644063
        }
      }
    },
    {
      "cell_type": "code",
      "source": [
        "#  run the training job\r\n",
        "src = ScriptRunConfig(source_directory=script_folder,\r\n",
        "                      script=script_file, \r\n",
        "                      arguments=args,\r\n",
        "                      compute_target=compute,\r\n",
        "                      environment=env)\r\n",
        "run = exp.submit(config=src, tags = {'aoi':f'{aoi}', 'model':f'{mod}'})\r\n",
        "run"
      ],
      "outputs": [
        {
          "output_type": "execute_result",
          "execution_count": 88,
          "data": {
            "text/plain": "Run(Experiment: wetland-unet-predict-2,\nId: wetland-unet-predict-2_1626877651_fd3e5a2a,\nType: azureml.scriptrun,\nStatus: Starting)",
            "text/html": "<table style=\"width:100%\"><tr><th>Experiment</th><th>Id</th><th>Type</th><th>Status</th><th>Details Page</th><th>Docs Page</th></tr><tr><td>wetland-unet-predict-2</td><td>wetland-unet-predict-2_1626877651_fd3e5a2a</td><td>azureml.scriptrun</td><td>Starting</td><td><a href=\"https://ml.azure.com/runs/wetland-unet-predict-2_1626877651_fd3e5a2a?wsid=/subscriptions/d54a5b4d-fd0c-4790-9898-ad1092502ab5/resourcegroups/cic_ai/workspaces/wetlands&amp;tid=2a55ee5f-4b13-43bb-b2d8-0c693229ec8a\" target=\"_blank\" rel=\"noopener\">Link to Azure Machine Learning studio</a></td><td><a href=\"https://docs.microsoft.com/en-us/python/api/azureml-core/azureml.core.script_run.ScriptRun?view=azure-ml-py\" target=\"_blank\" rel=\"noopener\">Link to Documentation</a></td></tr></table>"
          },
          "metadata": {}
        }
      ],
      "execution_count": 88,
      "metadata": {
        "collapsed": true,
        "jupyter": {
          "source_hidden": false,
          "outputs_hidden": false
        },
        "nteract": {
          "transient": {
            "deleting": false
          }
        },
        "gather": {
          "logged": 1626877653621
        }
      }
    },
    {
      "cell_type": "markdown",
      "source": [
        "## Let's look at the predictions made by our submitted jobs"
      ],
      "metadata": {
        "nteract": {
          "transient": {
            "deleting": false
          }
        }
      }
    },
    {
      "cell_type": "code",
      "source": [
        "import rasterio as rio\r\n"
      ],
      "outputs": [],
      "execution_count": null,
      "metadata": {
        "collapsed": true,
        "jupyter": {
          "source_hidden": false,
          "outputs_hidden": false
        },
        "nteract": {
          "transient": {
            "deleting": false
          }
        }
      }
    },
    {
      "cell_type": "code",
      "source": [
        "# We can visualize the predictions here in the notebook\r\n",
        "from matplotlib import pyplot as plt\r\n",
        "from matplotlib import colors\r\n",
        "\r\n",
        "figure = plt.figure(figsize = (12,12))\r\n",
        "# cmap = colors.ListedColormap(['#5dc5f1', '#50a886', '#3d6e1d', '#80e144', '#bafb85', '#d4a13e', \"#e73522\", \"#9c9c9c\", \"#000000\", \"#706e22\", \"#e7e64b\", \"#fefc86\", '#ad36ed'])\r\n",
        "prob = preds[:, :, 0]\r\n",
        "# cls = out_image[:, :, 0]\r\n",
        "\r\n",
        "plt.imshow(prob)#, norm = colors.BoundaryNorm([1,2,3,4,5,6,7,8,9,10,11,12,13,14,15], cmap.N), cmap = cmap)"
      ],
      "outputs": [],
      "execution_count": null,
      "metadata": {
        "collapsed": true,
        "jupyter": {
          "source_hidden": false,
          "outputs_hidden": false
        },
        "nteract": {
          "transient": {
            "deleting": false
          }
        }
      }
    }
  ],
  "metadata": {
    "kernelspec": {
      "name": "python3-azureml",
      "language": "python",
      "display_name": "Python 3.6 - AzureML"
    },
    "language_info": {
      "name": "python",
      "version": "3.6.9",
      "mimetype": "text/x-python",
      "codemirror_mode": {
        "name": "ipython",
        "version": 3
      },
      "pygments_lexer": "ipython3",
      "nbconvert_exporter": "python",
      "file_extension": ".py"
    },
    "kernel_info": {
      "name": "python3-azureml"
    },
    "microsoft": {
      "host": {
        "AzureML": {
          "notebookHasBeenCompleted": true
        }
      }
    },
    "nteract": {
      "version": "nteract-front-end@1.0.0"
    }
  },
  "nbformat": 4,
  "nbformat_minor": 2
}